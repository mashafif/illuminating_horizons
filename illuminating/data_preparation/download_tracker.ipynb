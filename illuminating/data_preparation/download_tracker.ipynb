{
 "cells": [
  {
   "cell_type": "code",
   "execution_count": 5,
   "metadata": {},
   "outputs": [
    {
     "name": "stdout",
     "output_type": "stream",
     "text": [
      "[1999 2000 2001 2002 2003 2004 2005 2006 2007 2008 2009 2010 2011 2012\n",
      " 2013 2014 2015 2016 2017 2018 2019 2020 2021 2022 2023]\n",
      "       YEAR  POINT  DONE\n",
      "0      1999      0     0\n",
      "1      1999      1     0\n",
      "2      1999      2     0\n",
      "3      1999      3     0\n",
      "4      1999      4     0\n",
      "...     ...    ...   ...\n",
      "57870  2023   2310     0\n",
      "57871  2023   2311     0\n",
      "57872  2023   2312     0\n",
      "57873  2023   2313     0\n",
      "57874  2023   2314     0\n",
      "\n",
      "[57875 rows x 3 columns]\n"
     ]
    },
    {
     "data": {
      "text/plain": [
       "57875"
      ]
     },
     "execution_count": 5,
     "metadata": {},
     "output_type": "execute_result"
    }
   ],
   "source": [
    "import sqlite3\n",
    "import pandas\n",
    "import numpy\n",
    "\n",
    "#ID of points\n",
    "points = pandas.read_csv('./CA_locations_2000.csv')\n",
    "P = numpy.arange(len(points))\n",
    "Y = numpy.arange(1999,2024)\n",
    "print(Y)\n",
    "conn = sqlite3.connect('download_tracker.sql')\n",
    "\n",
    "L = []\n",
    "for y in Y:\n",
    "    for p in P:\n",
    "        f = f'{y}_{p}_radiance.csv'\n",
    "        l = [y,p,0]\n",
    "        L.append(l)\n",
    "\n",
    "L = pandas.DataFrame(L)\n",
    "L.columns=['YEAR','POINT','DONE']\n",
    "print(L)\n",
    "\n",
    "# Write the DataFrame to the SQLite database\n",
    "#L.to_sql('FILES', conn, index=True, if_exists='replace')\n"
   ]
  }
 ],
 "metadata": {
  "kernelspec": {
   "display_name": "illuminating_horizons",
   "language": "python",
   "name": "python3"
  },
  "language_info": {
   "codemirror_mode": {
    "name": "ipython",
    "version": 3
   },
   "file_extension": ".py",
   "mimetype": "text/x-python",
   "name": "python",
   "nbconvert_exporter": "python",
   "pygments_lexer": "ipython3",
   "version": "3.10.6"
  }
 },
 "nbformat": 4,
 "nbformat_minor": 2
}
