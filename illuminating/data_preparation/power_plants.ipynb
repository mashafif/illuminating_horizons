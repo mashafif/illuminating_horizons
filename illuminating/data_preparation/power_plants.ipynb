{
 "cells": [
  {
   "cell_type": "markdown",
   "metadata": {},
   "source": [
    "Fujita, K.S., Ancona, Z.H., Kramer, L.A., Straka, M., Gautreau, T.E., Garrity, C.P., Robson, D., Diffendorfer, J.E., and Hoen, B., 2023, United States Large-Scale Solar Photovoltaic Database (v2.0, August, 2024): U.S. Geological Survey and Lawrence Berkeley National Laboratory data release, https://doi.org/10.5066/P9IA3TUS."
   ]
  },
  {
   "cell_type": "code",
   "execution_count": 1,
   "metadata": {},
   "outputs": [],
   "source": [
    "import pandas as pd\n",
    "import geopandas\n",
    "import sqlite3"
   ]
  },
  {
   "cell_type": "code",
   "execution_count": 6,
   "metadata": {},
   "outputs": [],
   "source": [
    "import geodata_processing"
   ]
  },
  {
   "cell_type": "code",
   "execution_count": 16,
   "metadata": {},
   "outputs": [],
   "source": [
    "USA = geodata_processing.download_gdf(country='USA')"
   ]
  },
  {
   "cell_type": "code",
   "execution_count": 18,
   "metadata": {},
   "outputs": [],
   "source": [
    "CAL = USA[USA.NAME_1=='California']"
   ]
  },
  {
   "cell_type": "code",
   "execution_count": 28,
   "metadata": {},
   "outputs": [
    {
     "data": {
      "text/html": [
       "<div>\n",
       "<style scoped>\n",
       "    .dataframe tbody tr th:only-of-type {\n",
       "        vertical-align: middle;\n",
       "    }\n",
       "\n",
       "    .dataframe tbody tr th {\n",
       "        vertical-align: top;\n",
       "    }\n",
       "\n",
       "    .dataframe thead th {\n",
       "        text-align: right;\n",
       "    }\n",
       "</style>\n",
       "<table border=\"1\" class=\"dataframe\">\n",
       "  <thead>\n",
       "    <tr style=\"text-align: right;\">\n",
       "      <th></th>\n",
       "      <th>ylat</th>\n",
       "      <th>xlong</th>\n",
       "      <th>p_area</th>\n",
       "    </tr>\n",
       "  </thead>\n",
       "  <tbody>\n",
       "    <tr>\n",
       "      <th>0</th>\n",
       "      <td>36.177598</td>\n",
       "      <td>-120.109391</td>\n",
       "      <td>373343</td>\n",
       "    </tr>\n",
       "    <tr>\n",
       "      <th>1</th>\n",
       "      <td>33.265240</td>\n",
       "      <td>-116.327979</td>\n",
       "      <td>162688</td>\n",
       "    </tr>\n",
       "    <tr>\n",
       "      <th>2</th>\n",
       "      <td>34.707428</td>\n",
       "      <td>-118.304671</td>\n",
       "      <td>606208</td>\n",
       "    </tr>\n",
       "    <tr>\n",
       "      <th>3</th>\n",
       "      <td>34.708588</td>\n",
       "      <td>-118.274109</td>\n",
       "      <td>42700</td>\n",
       "    </tr>\n",
       "    <tr>\n",
       "      <th>4</th>\n",
       "      <td>36.175836</td>\n",
       "      <td>-120.115552</td>\n",
       "      <td>383759</td>\n",
       "    </tr>\n",
       "    <tr>\n",
       "      <th>...</th>\n",
       "      <td>...</td>\n",
       "      <td>...</td>\n",
       "      <td>...</td>\n",
       "    </tr>\n",
       "    <tr>\n",
       "      <th>535</th>\n",
       "      <td>32.690795</td>\n",
       "      <td>-115.644149</td>\n",
       "      <td>5104085</td>\n",
       "    </tr>\n",
       "    <tr>\n",
       "      <th>536</th>\n",
       "      <td>32.658612</td>\n",
       "      <td>-115.668611</td>\n",
       "      <td>2741905</td>\n",
       "    </tr>\n",
       "    <tr>\n",
       "      <th>537</th>\n",
       "      <td>32.690980</td>\n",
       "      <td>-115.667807</td>\n",
       "      <td>2713736</td>\n",
       "    </tr>\n",
       "    <tr>\n",
       "      <th>538</th>\n",
       "      <td>38.500651</td>\n",
       "      <td>-121.692985</td>\n",
       "      <td>37452</td>\n",
       "    </tr>\n",
       "    <tr>\n",
       "      <th>539</th>\n",
       "      <td>34.471409</td>\n",
       "      <td>-117.561967</td>\n",
       "      <td>20769</td>\n",
       "    </tr>\n",
       "  </tbody>\n",
       "</table>\n",
       "<p>540 rows × 3 columns</p>\n",
       "</div>"
      ],
      "text/plain": [
       "          ylat       xlong   p_area\n",
       "0    36.177598 -120.109391   373343\n",
       "1    33.265240 -116.327979   162688\n",
       "2    34.707428 -118.304671   606208\n",
       "3    34.708588 -118.274109    42700\n",
       "4    36.175836 -120.115552   383759\n",
       "..         ...         ...      ...\n",
       "535  32.690795 -115.644149  5104085\n",
       "536  32.658612 -115.668611  2741905\n",
       "537  32.690980 -115.667807  2713736\n",
       "538  38.500651 -121.692985    37452\n",
       "539  34.471409 -117.561967    20769\n",
       "\n",
       "[540 rows x 3 columns]"
      ]
     },
     "execution_count": 28,
     "metadata": {},
     "output_type": "execute_result"
    }
   ],
   "source": [
    "import pandas as pd\n",
    "import sqlite3\n",
    "\n",
    "# Load the CSV file into a Pandas DataFrame\n",
    "csv_file_path = '../../raw_data/uspvdb_v2_0_20240801.csv'\n",
    "df = pd.read_csv(csv_file_path)\n",
    "\n",
    "# Create an in-memory SQLite database\n",
    "conn = sqlite3.connect(':memory:')\n",
    "\n",
    "# Write the DataFrame to the SQLite database\n",
    "df.to_sql('power_plants', conn, index=False, if_exists='replace')\n",
    "\n",
    "# Now you can query the table using SQL\n",
    "query = \"SELECT * FROM power_plants WHERE p_state = 'CA'\"\n",
    "query = \"SELECT ylat, xlong, p_area FROM power_plants WHERE p_state = 'CA'\"\n",
    "result_df = pd.read_sql_query(query, conn)\n",
    "\n",
    "result_df"
   ]
  },
  {
   "cell_type": "code",
   "execution_count": 24,
   "metadata": {},
   "outputs": [
    {
     "data": {
      "image/png": "[encoded data removed]",
      "text/plain": [
       "<Figure size 640x480 with 1 Axes>"
      ]
     },
     "metadata": {},
     "output_type": "display_data"
    }
   ],
   "source": [
    "import geodatasets\n",
    "import geopandas as gpd\n",
    "import matplotlib.pyplot as plt\n",
    "\n",
    "\n",
    "# Plot the map of California\n",
    "#CAL.plot()\n",
    "CAL.boundary.plot()\n",
    "\n",
    "# Set the title and show the plot\n",
    "plt.title('Map of California')\n",
    "plt.show()"
   ]
  }
 ],
 "metadata": {
  "kernelspec": {
   "display_name": "illuminating_horizons",
   "language": "python",
   "name": "python3"
  },
  "language_info": {
   "codemirror_mode": {
    "name": "ipython",
    "version": 3
   },
   "file_extension": ".py",
   "mimetype": "text/x-python",
   "name": "python",
   "nbconvert_exporter": "python",
   "pygments_lexer": "ipython3",
   "version": "3.10.6"
  }
 },
 "nbformat": 4,
 "nbformat_minor": 2
}
