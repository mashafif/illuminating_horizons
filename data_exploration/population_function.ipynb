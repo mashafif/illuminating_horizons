{
 "cells": [
  {
   "cell_type": "code",
   "execution_count": null,
   "metadata": {},
   "outputs": [],
   "source": [
    "# Libraries\n",
    "import pandas as pd\n",
    "import matplotlib.pyplot as plt\n",
    "import pandas as pd\n",
    "import geopandas as gpd\n",
    "import requests\n",
    "import zipfile\n",
    "\n",
    "# Parameters\n",
    "API_BASE_URL = \"https://hub.worldpop.org/rest/data/pop/wpic1km?iso3=\""
   ]
  },
  {
   "cell_type": "code",
   "execution_count": null,
   "metadata": {},
   "outputs": [],
   "source": [
    "def data_extraction(country_code):\n",
    "    country_API = f'API_BASE_URL+{country_code}'\n",
    "    response = requests.get(country_API)\n",
    "    data_list = response.json()['data'][-2]['files']\n",
    "    file_to_dl = [file for file in data_list if file.endswith(\"XYZ.zip\")]\n",
    "    zip_to_dl = file_to_dl[0]\n",
    "    zip_file = requests.get(zip_to_dl)\n",
    "    zip_file_pre = zipfile.ZipFile(io.BytesIO(zip_file.content))\n",
    "    with open(\"temp.zip\", \"w\") as file:\n",
    "        file.write(zip_file_pre)\n",
    "        pd.read_csv(\"temp.zip\", compression='zip')\n",
    "\n",
    "    return pd.read_csv(\"temp.zip\", compression='zip')\n"
   ]
  },
  {
   "cell_type": "code",
   "execution_count": null,
   "metadata": {},
   "outputs": [],
   "source": [
    "# def geopandas_conversion():\n",
    "#     pop_df = pd.read_csv(local_path)\n"
   ]
  },
  {
   "cell_type": "code",
   "execution_count": null,
   "metadata": {},
   "outputs": [],
   "source": [
    "# if __name__ ==__main__:\n",
    "    # data_extraction()"
   ]
  }
 ],
 "metadata": {
  "language_info": {
   "name": "python"
  }
 },
 "nbformat": 4,
 "nbformat_minor": 2
}
