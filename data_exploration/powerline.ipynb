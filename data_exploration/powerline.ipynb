{
 "cells": [
  {
   "cell_type": "code",
   "execution_count": 7,
   "id": "f4f80349-4b89-4f18-bc62-f505e5d36c92",
   "metadata": {},
   "outputs": [],
   "source": [
    "from illuminating.data_preparation.geodata_processing import download_gdf"
   ]
  },
  {
   "cell_type": "code",
   "execution_count": 8,
   "id": "397d2bc2-df03-478f-80c6-19d2f1809a52",
   "metadata": {},
   "outputs": [],
   "source": [
    "USA_gdf = download_gdf(\"USA\",1)"
   ]
  },
  {
   "cell_type": "code",
   "execution_count": 9,
   "id": "4411c328-4ae1-4d7c-b6ed-01f89d411385",
   "metadata": {},
   "outputs": [
    {
     "data": {
      "text/html": [
       "<div>\n",
       "<style scoped>\n",
       "    .dataframe tbody tr th:only-of-type {\n",
       "        vertical-align: middle;\n",
       "    }\n",
       "\n",
       "    .dataframe tbody tr th {\n",
       "        vertical-align: top;\n",
       "    }\n",
       "\n",
       "    .dataframe thead th {\n",
       "        text-align: right;\n",
       "    }\n",
       "</style>\n",
       "<table border=\"1\" class=\"dataframe\">\n",
       "  <thead>\n",
       "    <tr style=\"text-align: right;\">\n",
       "      <th></th>\n",
       "      <th>GID_1</th>\n",
       "      <th>GID_0</th>\n",
       "      <th>COUNTRY</th>\n",
       "      <th>NAME_1</th>\n",
       "      <th>VARNAME_1</th>\n",
       "      <th>NL_NAME_1</th>\n",
       "      <th>TYPE_1</th>\n",
       "      <th>ENGTYPE_1</th>\n",
       "      <th>CC_1</th>\n",
       "      <th>HASC_1</th>\n",
       "      <th>ISO_1</th>\n",
       "      <th>geometry</th>\n",
       "    </tr>\n",
       "  </thead>\n",
       "  <tbody>\n",
       "    <tr>\n",
       "      <th>0</th>\n",
       "      <td>USA.1_1</td>\n",
       "      <td>USA</td>\n",
       "      <td>UnitedStates</td>\n",
       "      <td>Alabama</td>\n",
       "      <td>AL|Ala.</td>\n",
       "      <td>NA</td>\n",
       "      <td>State</td>\n",
       "      <td>State</td>\n",
       "      <td>NA</td>\n",
       "      <td>US.AL</td>\n",
       "      <td>US-AL</td>\n",
       "      <td>MULTIPOLYGON (((-88.12060 30.23320, -88.12330 ...</td>\n",
       "    </tr>\n",
       "    <tr>\n",
       "      <th>1</th>\n",
       "      <td>USA.2_1</td>\n",
       "      <td>USA</td>\n",
       "      <td>UnitedStates</td>\n",
       "      <td>Alaska</td>\n",
       "      <td>AK|Alaska</td>\n",
       "      <td>NA</td>\n",
       "      <td>State</td>\n",
       "      <td>State</td>\n",
       "      <td>NA</td>\n",
       "      <td>US.AK</td>\n",
       "      <td>US-AK</td>\n",
       "      <td>MULTIPOLYGON (((-179.13150 51.20970, -179.1328...</td>\n",
       "    </tr>\n",
       "    <tr>\n",
       "      <th>2</th>\n",
       "      <td>USA.3_1</td>\n",
       "      <td>USA</td>\n",
       "      <td>UnitedStates</td>\n",
       "      <td>Arizona</td>\n",
       "      <td>AZ|Ariz.</td>\n",
       "      <td>NA</td>\n",
       "      <td>State</td>\n",
       "      <td>State</td>\n",
       "      <td>NA</td>\n",
       "      <td>US.AZ</td>\n",
       "      <td>US-AZ</td>\n",
       "      <td>MULTIPOLYGON (((-110.75620 31.33290, -111.0750...</td>\n",
       "    </tr>\n",
       "    <tr>\n",
       "      <th>3</th>\n",
       "      <td>USA.4_1</td>\n",
       "      <td>USA</td>\n",
       "      <td>UnitedStates</td>\n",
       "      <td>Arkansas</td>\n",
       "      <td>AR|Ark.</td>\n",
       "      <td>NA</td>\n",
       "      <td>State</td>\n",
       "      <td>State</td>\n",
       "      <td>NA</td>\n",
       "      <td>US.AR</td>\n",
       "      <td>US-AR</td>\n",
       "      <td>MULTIPOLYGON (((-91.90710 33.00800, -92.86190 ...</td>\n",
       "    </tr>\n",
       "    <tr>\n",
       "      <th>4</th>\n",
       "      <td>USA.5_1</td>\n",
       "      <td>USA</td>\n",
       "      <td>UnitedStates</td>\n",
       "      <td>California</td>\n",
       "      <td>CA|Calif.</td>\n",
       "      <td>NA</td>\n",
       "      <td>State</td>\n",
       "      <td>State</td>\n",
       "      <td>NA</td>\n",
       "      <td>US.CA</td>\n",
       "      <td>US-CA</td>\n",
       "      <td>MULTIPOLYGON (((-117.23300 32.77420, -117.2336...</td>\n",
       "    </tr>\n",
       "  </tbody>\n",
       "</table>\n",
       "</div>"
      ],
      "text/plain": [
       "     GID_1 GID_0       COUNTRY      NAME_1  VARNAME_1 NL_NAME_1 TYPE_1  \\\n",
       "0  USA.1_1   USA  UnitedStates     Alabama    AL|Ala.        NA  State   \n",
       "1  USA.2_1   USA  UnitedStates      Alaska  AK|Alaska        NA  State   \n",
       "2  USA.3_1   USA  UnitedStates     Arizona   AZ|Ariz.        NA  State   \n",
       "3  USA.4_1   USA  UnitedStates    Arkansas    AR|Ark.        NA  State   \n",
       "4  USA.5_1   USA  UnitedStates  California  CA|Calif.        NA  State   \n",
       "\n",
       "  ENGTYPE_1 CC_1 HASC_1  ISO_1  \\\n",
       "0     State   NA  US.AL  US-AL   \n",
       "1     State   NA  US.AK  US-AK   \n",
       "2     State   NA  US.AZ  US-AZ   \n",
       "3     State   NA  US.AR  US-AR   \n",
       "4     State   NA  US.CA  US-CA   \n",
       "\n",
       "                                            geometry  \n",
       "0  MULTIPOLYGON (((-88.12060 30.23320, -88.12330 ...  \n",
       "1  MULTIPOLYGON (((-179.13150 51.20970, -179.1328...  \n",
       "2  MULTIPOLYGON (((-110.75620 31.33290, -111.0750...  \n",
       "3  MULTIPOLYGON (((-91.90710 33.00800, -92.86190 ...  \n",
       "4  MULTIPOLYGON (((-117.23300 32.77420, -117.2336...  "
      ]
     },
     "execution_count": 9,
     "metadata": {},
     "output_type": "execute_result"
    }
   ],
   "source": [
    "USA_gdf.head()"
   ]
  },
  {
   "cell_type": "code",
   "execution_count": 10,
   "id": "f9f8911e-61fb-43b0-8529-f10e5b4b3266",
   "metadata": {},
   "outputs": [],
   "source": [
    "from re import finditer\n",
    "def camel_case_split(identifier):\n",
    "    matches = finditer('.+?(?:(?<=[a-z])(?=[A-Z])|(?<=[A-Z])(?=[A-Z][a-z])|$)', identifier)\n",
    "    return \" \".join([m.group(0) for m in matches])"
   ]
  },
  {
   "cell_type": "code",
   "execution_count": 11,
   "id": "a91e3ca9-554f-494c-9f67-6c8c1c2c1eba",
   "metadata": {},
   "outputs": [],
   "source": [
    "string = \"NewYork\""
   ]
  },
  {
   "cell_type": "code",
   "execution_count": 5,
   "id": "1c233788-9853-415c-ad99-d37c55302325",
   "metadata": {},
   "outputs": [
    {
     "data": {
      "text/plain": [
       "0                 Alabama\n",
       "1                  Alaska\n",
       "2                 Arizona\n",
       "3                Arkansas\n",
       "4              California\n",
       "5                Colorado\n",
       "6             Connecticut\n",
       "7                Delaware\n",
       "8     Districtof Columbia\n",
       "9                 Florida\n",
       "10                Georgia\n",
       "11                 Hawaii\n",
       "12                  Idaho\n",
       "13               Illinois\n",
       "14                Indiana\n",
       "15                   Iowa\n",
       "16                 Kansas\n",
       "17               Kentucky\n",
       "18              Louisiana\n",
       "19                  Maine\n",
       "20               Maryland\n",
       "21          Massachusetts\n",
       "22               Michigan\n",
       "23              Minnesota\n",
       "24            Mississippi\n",
       "25               Missouri\n",
       "26                Montana\n",
       "27               Nebraska\n",
       "28                 Nevada\n",
       "29          New Hampshire\n",
       "30             New Jersey\n",
       "31             New Mexico\n",
       "32               New York\n",
       "33         North Carolina\n",
       "34           North Dakota\n",
       "35                   Ohio\n",
       "36               Oklahoma\n",
       "37                 Oregon\n",
       "38           Pennsylvania\n",
       "39           Rhode Island\n",
       "40         South Carolina\n",
       "41           South Dakota\n",
       "42              Tennessee\n",
       "43                  Texas\n",
       "44                   Utah\n",
       "45                Vermont\n",
       "46               Virginia\n",
       "47             Washington\n",
       "48          West Virginia\n",
       "49              Wisconsin\n",
       "50                Wyoming\n",
       "Name: NAME_1, dtype: object"
      ]
     },
     "execution_count": 5,
     "metadata": {},
     "output_type": "execute_result"
    }
   ],
   "source": [
    "states = USA_gdf.NAME_1.apply(camel_case_split)\n",
    "states"
   ]
  },
  {
   "cell_type": "code",
   "execution_count": 6,
   "id": "290af7f1-e1af-48ca-9c2f-34153cdd4cbd",
   "metadata": {},
   "outputs": [],
   "source": [
    "states = states.replace(\"Districtof Columbia\", \"District of Columbia\")"
   ]
  },
  {
   "cell_type": "code",
   "execution_count": 53,
   "id": "15c8f4a7-8568-459c-8152-58fccbd02451",
   "metadata": {
    "scrolled": true
   },
   "outputs": [
    {
     "name": "stdout",
     "output_type": "stream",
     "text": [
      "Successfully downloaded primary data for New Hampshire\n",
      "Successfully downloaded secondary data for New Hampshire\n",
      "Successfully downloaded tertiary data for New Hampshire\n",
      "Successfully downloaded motorway data for New Hampshire\n",
      "Successfully downloaded trunk data for New Hampshire\n",
      "Successfully downloaded road data for New Hampshire\n",
      "Successfully downloaded primary data for New York\n",
      "Successfully downloaded secondary data for New York\n",
      "Successfully downloaded tertiary data for New York\n",
      "Successfully downloaded motorway data for New York\n",
      "Successfully downloaded trunk data for New York\n",
      "Successfully downloaded road data for New York\n",
      "Successfully downloaded primary data for New Mexico\n",
      "Successfully downloaded secondary data for New Mexico\n",
      "Successfully downloaded tertiary data for New Mexico\n",
      "Successfully downloaded motorway data for New Mexico\n",
      "Successfully downloaded trunk data for New Mexico\n",
      "Successfully downloaded road data for New Mexico\n",
      "Successfully downloaded primary data for North Carolina\n",
      "Successfully downloaded secondary data for North Carolina\n",
      "Successfully downloaded tertiary data for North Carolina\n",
      "Successfully downloaded motorway data for North Carolina\n",
      "Successfully downloaded trunk data for North Carolina\n",
      "Successfully downloaded road data for North Carolina\n",
      "Successfully downloaded primary data for North Dakota\n",
      "Successfully downloaded secondary data for North Dakota\n",
      "Successfully downloaded tertiary data for North Dakota\n",
      "Successfully downloaded motorway data for North Dakota\n",
      "Successfully downloaded trunk data for North Dakota\n",
      "Successfully downloaded road data for North Dakota\n",
      "Successfully downloaded primary data for Rhode Island\n",
      "Successfully downloaded secondary data for Rhode Island\n",
      "Successfully downloaded tertiary data for Rhode Island\n",
      "Successfully downloaded motorway data for Rhode Island\n",
      "Successfully downloaded trunk data for Rhode Island\n",
      "Successfully downloaded road data for Rhode Island\n",
      "Successfully downloaded primary data for South Carolina\n",
      "Successfully downloaded secondary data for South Carolina\n",
      "Successfully downloaded tertiary data for South Carolina\n",
      "Successfully downloaded motorway data for South Carolina\n",
      "Successfully downloaded trunk data for South Carolina\n",
      "Successfully downloaded road data for South Carolina\n",
      "Successfully downloaded primary data for South Dakota\n",
      "Successfully downloaded secondary data for South Dakota\n",
      "Successfully downloaded tertiary data for South Dakota\n",
      "Successfully downloaded motorway data for South Dakota\n",
      "Successfully downloaded trunk data for South Dakota\n",
      "Successfully downloaded road data for South Dakota\n",
      "Successfully downloaded primary data for West Virginia\n",
      "Successfully downloaded secondary data for West Virginia\n",
      "Successfully downloaded tertiary data for West Virginia\n",
      "Successfully downloaded motorway data for West Virginia\n",
      "Successfully downloaded trunk data for West Virginia\n",
      "Successfully downloaded road data for West Virginia\n"
     ]
    }
   ],
   "source": [
    "overpass_url = \"http://overpass-api.de/api/interpreter\"\n",
    "\n",
    "overpass_query = f\"\"\"\n",
    "[out:json];\n",
    "(\n",
    "  way[\"power\"]({min_lat},{min_lon},{max_lat},{max_lon});\n",
    "  node[\"power\"]({min_lat},{min_lon},{max_lat},{max_lon});\n",
    "  relation[\"power\"]({min_lat},{min_lon},{max_lat},{max_lon});\n",
    ");\n",
    "out body;\n",
    ">;\n",
    "out skel qt;\n",
    "\"\"\"\n",
    "\n",
    "# Send the request to the Overpass API\n",
    "response = requests.get(overpass_url, params={'data': overpass_query})\n",
    "\n",
    "# Check if the request was successful\n",
    "if response.status_code == 200:\n",
    "    osm_data = response.json()\n",
    "    \n",
    "    # Convert the data to GeoJSON\n",
    "    features = []\n",
    "    nodes = {node['id']: (node['lat'], node['lon']) for node in osm_data['elements'] if node['type'] == 'node'}\n",
    "    \n",
    "    for element in osm_data['elements']:\n",
    "        if element['type'] == 'way':\n",
    "            coordinates = [(nodes[node_id][1], nodes[node_id][0]) for node_id in element['nodes']]\n",
    "            feature = geojson.Feature(\n",
    "                geometry=geojson.LineString(coordinates),\n",
    "                properties={\n",
    "                    \"id\": element['id'],\n",
    "                    \"power\": element.get('tags', {}).get('power', ''),\n",
    "                    \"tags\": element.get('tags', {})\n",
    "                }\n",
    "            )\n",
    "            features.append(feature)\n",
    "        elif element['type'] == 'node':\n",
    "            feature = geojson.Feature(\n",
    "                geometry=geojson.Point((nodes[element['id']][1], nodes[element['id']][0])),\n",
    "                properties={\n",
    "                    \"id\": element['id'],\n",
    "                    \"power\": element.get('tags', {}).get('power', ''),\n",
    "                    \"tags\": element.get('tags', {})\n",
    "                }\n",
    "            )\n",
    "            features.append(feature)\n",
    "        elif element['type'] == 'relation':\n",
    "            # Handle relations similarly to ways and nodes, depending on member types\n",
    "            for member in element['members']:\n",
    "                if member['type'] == 'way' and member['ref'] in nodes:\n",
    "                    coordinates = [(nodes[node_id][1], nodes[node_id][0]) for node_id in element['nodes']]\n",
    "                    feature = geojson.Feature(\n",
    "                        geometry=geojson.LineString(coordinates),\n",
    "                        properties={\n",
    "                            \"id\": element['id'],\n",
    "                            \"power\": element.get('tags', {}).get('power', ''),\n",
    "                            \"tags\": element.get('tags', {})\n",
    "                        }\n",
    "                    )\n",
    "                    features.append(feature)\n",
    "    \n",
    "    feature_collection = geojson.FeatureCollection(features)\n",
    "    \n",
    "    # Save to GeoJSON file\n",
    "    with open(f'{location_name.lower()}_power.geojson', 'w') as geojson_file:\n",
    "        geojson.dump(feature_collection, geojson_file, indent=2)\n",
    "    \n",
    "    print(f\"GeoJSON data has been saved to '{location_name.lower()}_power.geojson'\")\n",
    "else:\n",
    "    print(f\"Error: {response.status_code}\")       "
   ]
  },
  {
   "cell_type": "code",
   "execution_count": 3,
   "id": "f1b182e1-a1f6-4f57-84a9-73ba469701bf",
   "metadata": {},
   "outputs": [
    {
     "data": {
      "text/plain": [
       "'/home/kalimdorfolk/code/mashafif/illuminating_horizons/raw_data/california_roads/motorway_road_location.geojson'"
      ]
     },
     "execution_count": 3,
     "metadata": {},
     "output_type": "execute_result"
    }
   ],
   "source": [
    "import os\n",
    "root_path = os.path.abspath('../')\n",
    "raw_data_path = os.path.join(root_path,\"raw_data\")\n",
    "file_name= os.path.join(raw_data_path,f\"california_roads/motorway_road_location.geojson\")\n",
    "file_name"
   ]
  },
  {
   "cell_type": "code",
   "execution_count": 7,
   "id": "d4b228ff-cf29-4a8b-b1ec-b654afb1be4a",
   "metadata": {},
   "outputs": [
    {
     "name": "stdout",
     "output_type": "stream",
     "text": [
      "Successfully downloaded primary data\n",
      "[{\"geometry\": {\"coordinates\": [[139.760462, 35.666778], [139.760611, 35.666725]], \"type\": \"LineString\"}, \"id\": 4848881, \"properties\": {\"highway\": \"primary\", \"lanes\": \"4\", \"lit\": \"yes\", \"maxspeed\": \"50\", \"name\": \"昭和通り\", \"name:en\": \"Showa-dori\", \"name:ja\": \"昭和通り\", \"name:ja_rm\": \"Shōwa Dōri\", \"oneway\": \"yes\", \"ref\": \"316\", \"source\": \"survey;bing;Bing 2010\", \"surface\": \"paved\"}, \"type\": \"Feature\"}, {\"geometry\": {\"coordinates\": [[139.748049, 35.641643], [139.748077, 35.641701], [139.74811, 35.641745], [139.748156, 35.641789], [139.7482, 35.641822], [139.748248, 35.64185], [139.748294, 35.641873], [139.748388, 35.641913], [139.748461, 35.641947], [139.748758, 35.64208], [139.748998, 35.642179], [139.749678, 35.642473], [139.749803, 35.642524], [139.749925, 35.642581], [139.750461, 35.642815], [139.750765, 35.642931], [139.75086, 35.642946], [139.750964, 35.64295], [139.751031, 35.64295]], \"type\": \"LineString\"}, \"id\": 4848884, \"properties\": {\"foot\": \"no\", \"highway\": \"primary\", \"lanes\": \"2\", \"name\": \"旧海岸通り\", \"name:en\": \"Kyu Kaigan Dori\", \"name:es\": \"Calle Kyu Kaigan\", \"oneway\": \"yes\", \"ref\": \"316\", \"surface\": \"asphalt\"}, \"type\": \"Feature\"}]\n",
      "Successfully downloaded secondary data\n",
      "[{\"geometry\": {\"coordinates\": [[139.75824, 35.64731], [139.758287, 35.64742], [139.758871, 35.648792], [139.759073, 35.649265], [139.760163, 35.651841], [139.760298, 35.652107]], \"type\": \"LineString\"}, \"id\": 4848899, \"properties\": {\"highway\": \"secondary\", \"layer\": \"-1\", \"name\": \"新橋日の出ふ頭線\", \"name:en\": \"Metropolitan Road 481\", \"name:es\": \"Calle metropolitana 481\", \"oneway\": \"yes\", \"ref\": \"481\"}, \"type\": \"Feature\"}, {\"geometry\": {\"coordinates\": [[139.77735, 35.669556], [139.77725, 35.669561], [139.775797, 35.669959], [139.775221, 35.670116], [139.775015, 35.670172]], \"type\": \"LineString\"}, \"id\": 4848945, \"properties\": {\"highway\": \"secondary\", \"name\": \"佃大橋通り\", \"name:en\": \"Tsukuda Ohashi-dori\", \"name:es\": \"Calle Tsukuda Ohashi\", \"oneway\": \"yes\", \"ref\": \"473\"}, \"type\": \"Feature\"}]\n",
      "Successfully downloaded tertiary data\n",
      "[{\"geometry\": {\"coordinates\": [[139.7577, 35.642047], [139.757699, 35.642127]], \"type\": \"LineString\"}, \"id\": 4847513, \"properties\": {\"highway\": \"tertiary\", \"oneway\": \"yes\", \"surface\": \"asphalt\"}, \"type\": \"Feature\"}, {\"geometry\": {\"coordinates\": [[139.758269, 35.6456], [139.758062, 35.645046], [139.758045, 35.64492], [139.758014, 35.644789], [139.757947, 35.644507], [139.757899, 35.644275], [139.757863, 35.643827], [139.757829, 35.643073], [139.757829, 35.643059], [139.757828, 35.642944]], \"type\": \"LineString\"}, \"id\": 4847514, \"properties\": {\"highway\": \"tertiary\", \"oneway\": \"yes\", \"surface\": \"asphalt\"}, \"type\": \"Feature\"}]\n",
      "Successfully downloaded motorway data\n",
      "[{\"geometry\": {\"coordinates\": [[139.757835, 35.643824], [139.757842, 35.64313], [139.757849, 35.641757], [139.757864, 35.640667], [139.757857, 35.639854], [139.757855, 35.63961], [139.757862, 35.639457], [139.757873, 35.639323], [139.757888, 35.639237], [139.757904, 35.639158], [139.757934, 35.639056], [139.757966, 35.638965], [139.758008, 35.638869], [139.75806, 35.638767], [139.758109, 35.638684], [139.758171, 35.638597], [139.758235, 35.638516], [139.758315, 35.638428], [139.7584, 35.638345], [139.758493, 35.638267], [139.758603, 35.638189], [139.758737, 35.638102], [139.758885, 35.63802], [139.759046, 35.637947], [139.759191, 35.637884]], \"type\": \"LineString\"}, \"id\": 4847506, \"properties\": {\"bridge\": \"yes\", \"highway\": \"motorway\", \"lanes\": \"2\", \"layer\": \"4\", \"name\": \"首都高速11号台場線\", \"name:en\": \"Daiba Route\", \"name:es\": \"Ruta Daiba\", \"name:ja\": \"首都高速11号台場線\", \"name:ru\": \"Шоссе Дайба\", \"oneway\": \"yes\", \"ref\": \"11\"}, \"type\": \"Feature\"}, {\"geometry\": {\"coordinates\": [[139.75028, 35.62995], [139.750556, 35.633375], [139.750578, 35.633578], [139.750611, 35.633763], [139.750651, 35.63391], [139.750704, 35.634076], [139.750762, 35.634223], [139.751679, 35.636094], [139.752136, 35.636983], [139.752699, 35.638103], [139.753364, 35.639408], [139.754088, 35.640799], [139.754934, 35.642509], [139.755335, 35.643247], [139.755726, 35.644], [139.756672, 35.645926]], \"type\": \"LineString\"}, \"id\": 4848761, \"properties\": {\"bicycle\": \"no\", \"bridge\": \"yes\", \"foot\": \"no\", \"highway\": \"motorway\", \"layer\": \"2\", \"maxspeed\": \"60\", \"motorcar\": \"designated\", \"motorcycle\": \"designated\", \"name\": \"首都高速1号羽田線\", \"name:en\": \"Shuto Expressway Route 1 Haneda Line\", \"name:es\": \"Ruta 1 Haneda de la Autopista Shuto\", \"name:ja\": \"首都高速1号羽田線\", \"name:ko\": \"수도고속도로 하네다선\", \"name:ru\": \"Шоссе Ханеда\", \"oneway\": \"yes\", \"ref\": \"1\", \"smoothness\": \"excellent\", \"source\": \"Bing 2010\", \"surface\": \"paved\", \"toll\": \"yes\"}, \"type\": \"Feature\"}]\n",
      "Successfully downloaded trunk data\n",
      "[{\"geometry\": {\"coordinates\": [[139.753011, 35.649182], [139.753204, 35.649136], [139.753328, 35.649106], [139.7537, 35.648992], [139.754307, 35.648798], [139.754364, 35.648782], [139.754602, 35.648712], [139.754702, 35.648665], [139.754758, 35.648639], [139.75484, 35.648584], [139.754925, 35.648497], [139.754944, 35.648476], [139.75496, 35.648455], [139.754997, 35.648417], [139.755051, 35.648377]], \"type\": \"LineString\"}, \"id\": 4848900, \"properties\": {\"access\": \"yes\", \"highway\": \"trunk\", \"lanes\": \"2\", \"maxspeed\": \"40\", \"name\": \"旧海岸通り\", \"name:en\": \"Kyu-Kaigan-dori\", \"name:es\": \"Calle Kyu-Kaigan\", \"name:ja\": \"旧海岸通り\", \"name:ja_rm\": \"Kyū Kaigan Dōri\", \"oneway\": \"yes\", \"ref\": \"130\", \"source\": \"Bing\", \"source:maxspeed\": \"sign\", \"surface\": \"asphalt\"}, \"type\": \"Feature\"}, {\"geometry\": {\"coordinates\": [[139.757425, 35.663136], [139.757482, 35.663203], [139.757608, 35.663351], [139.757676, 35.663432], [139.757792, 35.663569], [139.757903, 35.663698], [139.758048, 35.663865], [139.758298, 35.664165], [139.758407, 35.664293], [139.7588, 35.664782], [139.759105, 35.665205], [139.759224, 35.665371], [139.759265, 35.665429]], \"type\": \"LineString\"}, \"id\": 4848932, \"properties\": {\"access\": \"yes\", \"alt_name\": \"旧東海道\", \"bicycle\": \"yes\", \"cycleway:left\": \"shared_lane\", \"foot\": \"no\", \"highway\": \"trunk\", \"lanes\": \"3\", \"lit\": \"yes\", \"maxspeed\": \"50\", \"name\": \"第一京浜\", \"name:en\": \"Daiichi Keihin\", \"name:es\": \"Daiichi Keihin\", \"name:ja\": \"第一京浜\", \"name:ja_rm\": \"Daiichi Keihin\", \"name:zh\": \"第一京濱\", \"oneway\": \"yes\", \"ref\": \"15\", \"source\": \"Bing 2010\", \"surface\": \"asphalt\"}, \"type\": \"Feature\"}]\n",
      "Successfully downloaded road data\n",
      "[]\n"
     ]
    }
   ],
   "source": [
    "import overpass\n",
    "import geojson\n",
    "\n",
    "api = overpass.API(timeout=600)\n",
    "road_type =[\"primary\",\"secondary\",\"tertiary\",\"motorway\",\"trunk\",\"road\"]\n",
    "root_path = os.path.abspath('../')\n",
    "raw_data_path = os.path.join(root_path,\"raw_data\")\n",
    "\n",
    "for road in road_type:\n",
    "    try:\n",
    "        query = f\"\"\"\n",
    "        way[\"highway\"~\"^({road})$\"](around:5000,35.682839,139.759455);\n",
    "        out geom;\n",
    "        \"\"\"    \n",
    "        result = api.get(query)\n",
    "        file_name= os.path.join(raw_data_path,f\"tokyo_roads/{road}_road_location.geojson\")\n",
    "\n",
    "        with open(file_name,mode=\"w\") as f:\n",
    "            geojson.dump(result,f)\n",
    "        print(f\"Successfully downloaded {road} data\")\n",
    "    except Exception as e:\n",
    "        print(f\"Error in downloading {road}: {e}\")\n",
    "    else:\n",
    "        print(result[0:2])        "
   ]
  },
  {
   "cell_type": "code",
   "execution_count": 37,
   "id": "12bb0020-13f6-46d1-a72b-2fddb6f0a783",
   "metadata": {},
   "outputs": [
    {
     "data": {
      "text/plain": [
       "geojson.feature.FeatureCollection"
      ]
     },
     "execution_count": 37,
     "metadata": {},
     "output_type": "execute_result"
    }
   ],
   "source": [
    "type(result)"
   ]
  },
  {
   "cell_type": "code",
   "execution_count": 41,
   "id": "a21a0cd5-5319-4f81-87e5-154f796915e0",
   "metadata": {},
   "outputs": [],
   "source": [
    "with open(\"./road_location.geojson\",mode=\"w\") as f:\n",
    "  geojson.dump(result,f)"
   ]
  },
  {
   "cell_type": "code",
   "execution_count": 29,
   "id": "b5cf7aac-637d-4961-b2a9-dcbc1c7f669a",
   "metadata": {},
   "outputs": [
    {
     "name": "stdout",
     "output_type": "stream",
     "text": [
      "/home/kalimdorfolk/code/mashafif/illuminating_horizons/data_exploration\n"
     ]
    }
   ],
   "source": [
    "!pwd"
   ]
  },
  {
   "cell_type": "code",
   "execution_count": null,
   "id": "c1f3f14f-bcbd-4e8d-8788-29210f287e2f",
   "metadata": {},
   "outputs": [],
   "source": []
  },
  {
   "cell_type": "code",
   "execution_count": null,
   "id": "d8573d04-494a-4711-98fe-983fde773838",
   "metadata": {},
   "outputs": [],
   "source": [
    "# Combine results into a single dataset\n",
    "combined_results = overpy.Result()\n",
    "for result in results:\n",
    "    combined_results.nodes.extend(result.nodes)\n",
    "    combined_results.ways.extend(result.ways)\n",
    "    combined_results.relations.extend(result.relations)\n",
    "\n",
    "# The combined_results now contains data from all queries"
   ]
  }
 ],
 "metadata": {
  "kernelspec": {
   "display_name": "Python 3 (ipykernel)",
   "language": "python",
   "name": "python3"
  },
  "language_info": {
   "codemirror_mode": {
    "name": "ipython",
    "version": 3
   },
   "file_extension": ".py",
   "mimetype": "text/x-python",
   "name": "python",
   "nbconvert_exporter": "python",
   "pygments_lexer": "ipython3",
   "version": "3.10.6"
  }
 },
 "nbformat": 4,
 "nbformat_minor": 5
}
