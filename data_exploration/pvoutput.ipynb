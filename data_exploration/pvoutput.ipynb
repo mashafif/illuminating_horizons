{
 "cells": [
  {
   "cell_type": "code",
   "execution_count": 1,
   "metadata": {},
   "outputs": [],
   "source": [
    "import requests\n",
    "import csv\n"
   ]
  },
  {
   "cell_type": "code",
   "execution_count": 10,
   "metadata": {},
   "outputs": [],
   "source": [
    "API_KEY = 'b407d704b2c385ead129fd8c4faec7e5022fb6b9'\n",
    "SYSTEM_ID = 'Kurekaoru'\n",
    "BASE_URL = 'https://pvoutput.org/service/r2/'\n",
    "DATE = '20230806' "
   ]
  },
  {
   "cell_type": "code",
   "execution_count": 11,
   "metadata": {},
   "outputs": [
    {
     "name": "stdout",
     "output_type": "stream",
     "text": [
      "https://pvoutput.org/service/r2/getstatus.jsp {'X-Pvoutput-SystemId': 'Kurekaoru', 'X-Pvoutput-Apikey': 'b407d704b2c385ead129fd8c4faec7e5022fb6b9'} {'d': '20230806'}\n",
      "Unauthorized 401: Invalid System ID\n"
     ]
    }
   ],
   "source": [
    "url = 'https://pvoutput.org/service/r2/getstatus.jsp'\n",
    "headers = {\n",
    "    'X-Pvoutput-SystemId': SYSTEM_ID,\n",
    "    'X-Pvoutput-Apikey': API_KEY\n",
    "}\n",
    "params = {\n",
    "    'd': DATE\n",
    "    #'h': HISTORY,\n",
    "    #'limit': LIMIT,\n",
    "    #'ext': EXTENDED_DATA\n",
    "}\n",
    "\n",
    "print(url, headers, params)\n",
    "\n",
    "response = requests.get(url, headers=headers, data=params)\n",
    "print(response.text)"
   ]
  },
  {
   "cell_type": "code",
   "execution_count": 7,
   "metadata": {},
   "outputs": [
    {
     "ename": "Exception",
     "evalue": "Error fetching data: 401",
     "output_type": "error",
     "traceback": [
      "\u001b[0;31m---------------------------------------------------------------------------\u001b[0m",
      "\u001b[0;31mException\u001b[0m                                 Traceback (most recent call last)",
      "Cell \u001b[0;32mIn[7], line 18\u001b[0m\n\u001b[1;32m     16\u001b[0m \u001b[38;5;28;01mif\u001b[39;00m \u001b[38;5;18m__name__\u001b[39m \u001b[38;5;241m==\u001b[39m \u001b[38;5;124m\"\u001b[39m\u001b[38;5;124m__main__\u001b[39m\u001b[38;5;124m\"\u001b[39m:\n\u001b[1;32m     17\u001b[0m     date \u001b[38;5;241m=\u001b[39m \u001b[38;5;124m'\u001b[39m\u001b[38;5;124m20230806\u001b[39m\u001b[38;5;124m'\u001b[39m  \u001b[38;5;66;03m# Example date\u001b[39;00m\n\u001b[0;32m---> 18\u001b[0m     data \u001b[38;5;241m=\u001b[39m \u001b[43mfetch_data\u001b[49m\u001b[43m(\u001b[49m\u001b[43mdate\u001b[49m\u001b[43m)\u001b[49m\n\u001b[1;32m     19\u001b[0m     save_to_csv(data, \u001b[38;5;124m'\u001b[39m\u001b[38;5;124mpvoutput_data.csv\u001b[39m\u001b[38;5;124m'\u001b[39m)\n",
      "Cell \u001b[0;32mIn[7], line 7\u001b[0m, in \u001b[0;36mfetch_data\u001b[0;34m(date)\u001b[0m\n\u001b[1;32m      5\u001b[0m     \u001b[38;5;28;01mreturn\u001b[39;00m response\u001b[38;5;241m.\u001b[39mtext\n\u001b[1;32m      6\u001b[0m \u001b[38;5;28;01melse\u001b[39;00m:\n\u001b[0;32m----> 7\u001b[0m     \u001b[38;5;28;01mraise\u001b[39;00m \u001b[38;5;167;01mException\u001b[39;00m(\u001b[38;5;124mf\u001b[39m\u001b[38;5;124m\"\u001b[39m\u001b[38;5;124mError fetching data: \u001b[39m\u001b[38;5;132;01m{\u001b[39;00mresponse\u001b[38;5;241m.\u001b[39mstatus_code\u001b[38;5;132;01m}\u001b[39;00m\u001b[38;5;124m\"\u001b[39m)\n",
      "\u001b[0;31mException\u001b[0m: Error fetching data: 401"
     ]
    }
   ],
   "source": [
    "def fetch_data(date):\n",
    "    url = f\"{BASE_URL}getoutput.jsp?sid={SYSTEM_ID}&key={API_KEY}&df={date}&dt={date}\"\n",
    "    response = requests.post(url)\n",
    "    if response.status_code == 200:\n",
    "        return response.text\n",
    "    else:\n",
    "        raise Exception(f\"Error fetching data: {response.status_code}\")\n",
    "\n",
    "def save_to_csv(data, filename):\n",
    "    with open(filename, 'w') as file:\n",
    "        writer = csv.writer(file)\n",
    "        writer.writerow(['Date', 'Energy Generated', 'Efficiency', 'Energy Exported', 'Energy Used', 'Peak Power', 'Peak Time', 'Condition', 'Min Temperature', 'Max Temperature'])\n",
    "        for line in data.strip().split('\\n'):\n",
    "            writer.writerow(line.split(','))\n",
    "\n",
    "if __name__ == \"__main__\":\n",
    "    date = '20230806'  # Example date\n",
    "    data = fetch_data(date)\n",
    "    save_to_csv(data, 'pvoutput_data.csv')"
   ]
  }
 ],
 "metadata": {
  "kernelspec": {
   "display_name": "illuminating_horizons",
   "language": "python",
   "name": "python3"
  },
  "language_info": {
   "codemirror_mode": {
    "name": "ipython",
    "version": 3
   },
   "file_extension": ".py",
   "mimetype": "text/x-python",
   "name": "python",
   "nbconvert_exporter": "python",
   "pygments_lexer": "ipython3",
   "version": "3.10.6"
  }
 },
 "nbformat": 4,
 "nbformat_minor": 2
}
