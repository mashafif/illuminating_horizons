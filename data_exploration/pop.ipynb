{
 "cells": [
  {
   "cell_type": "code",
   "execution_count": 3,
   "metadata": {},
   "outputs": [
    {
     "ename": "HTTPError",
     "evalue": "404 Not Found\n\n\n\n\n\n\n\n<!DOCTYPE html PUBLIC \"-//W3C//DTD XHTML 1.0 Transitional//EN\" \"http://www.w3.org/TR/xhtml1/DTD/xhtml1-transitional.dtd\">\n\n\n<html xmlns=\"http://www.w3.org/1999/xhtml\">\n<head>\n    <meta http-equiv=\"Content-Type\" content=\"text/html; charset=UTF-8\"/>\n    <link rel='stylesheet' href='/opendap/docs/css/contents.css' type='text/css'/>\n    <title>Hyrax - Resource Not Found (404)</title>\n</head>\n\n<body>\n<p align=\"left\">&nbsp;</p>\n\n<h1 align=\"center\">Hyrax - Resource Not Found (404)</h1>\n<hr align=\"left\" size=\"1\" noshade=\"noshade\"/>\n<table width=\"100%\" border=\"0\">\n    <tr>\n        <td>\n            <a href=\"/opendap/docs/images/largeEarth.jpg\">\n            <img src=\"/opendap/docs/images/smallEarth.jpg\"\n                 alt=\"I looked everywhere!\"\n                 title=\"I looked everywhere!\"\n                 border=\"0\"/>\n            </a>\n        </td>\n\n        <td>\n            <p align=\"left\">The URL requested does not describe a resource that can be found on this server.</p>\n\n            <p align=\"left\">If you would like to start at the top level of this server, go <a\n                    href=\"/opendap/\"><strong>HERE</strong></a>.</p>\n\n            \n            <p align=\"left\">The specific error message associated with your request was:</p>\n            <blockquote> <p><strong>Failed to locate resource: /gpw-v4/gpw-v4-population-density-rev11_2020/gpw-v4-population-density-rev11_2020.nc.dds </strong></p> </blockquote>\n            \n            \n            <p align=\"left\"> If you think that the server is broken (that the URL you submitted should have worked),\n                then please contact the OPeNDAP user support coordinator at:\n                <a href=\"mailto:support@opendap.org?subject=Hyrax Error 404&amp;body=%0A%0A%0A%0A%0A# -- -- -- -- -- -- -- -- -- -- -- -- -- -- -- -- --%0A# %0A# We&#39;re sorry you had a problem using the server.%0A# Please use the space above to describe what you%0A# were trying to do and we will try to assist you.%0A# Thanks,%0A# OPeNDAP Support.%0A# %0A# -- -- -- hyrax error info, please include -- -- --%0A# %0A# request_url: https://sedac.ciesin.columbia.edu/opendap/error/error404.jsp%0A# protocol: HTTP/1.1%0A# server: sedac.ciesin.columbia.edu%0A# port: 443%0A# javax.servlet.forward.request_uri: /opendap/gpw-v4/gpw-v4-population-density-rev11_2020/gpw-v4-population-density-rev11_2020.nc.dds%0A# query_string: n/a%0A# status: 404%0A# message: Failed to locate resource: /gpw-v4/gpw-v4-population-density-rev11_2020/gpw-v4-population-density-rev11_2020.nc.dds%0A# %0A# -- -- -- -- -- -- -- -- -- -- -- -- -- -- -- -- --%0A\">support@opendap.org</a>\n            </p>\n            \n\n        </td>\n    </tr>\n</table>\n<hr align=\"left\" size=\"1\" noshade=\"noshade\"/>\n<h1 align=\"center\">Hyrax - Resource Not Found (404)</h1>\n</body>\n</html>\n",
     "output_type": "error",
     "traceback": [
      "\u001b[0;31m---------------------------------------------------------------------------\u001b[0m",
      "\u001b[0;31mHTTPError\u001b[0m                                 Traceback (most recent call last)",
      "Cell \u001b[0;32mIn[3], line 9\u001b[0m\n\u001b[1;32m      6\u001b[0m url \u001b[38;5;241m=\u001b[39m \u001b[38;5;124m\"\u001b[39m\u001b[38;5;124mhttps://sedac.ciesin.columbia.edu/opendap/gpw-v4/gpw-v4-population-density-rev11_2020/gpw-v4-population-density-rev11_2020.nc\u001b[39m\u001b[38;5;124m\"\u001b[39m\n\u001b[1;32m      8\u001b[0m \u001b[38;5;66;03m# Open the dataset\u001b[39;00m\n\u001b[0;32m----> 9\u001b[0m dataset \u001b[38;5;241m=\u001b[39m \u001b[43mopen_url\u001b[49m\u001b[43m(\u001b[49m\u001b[43murl\u001b[49m\u001b[43m)\u001b[49m\n\u001b[1;32m     11\u001b[0m \u001b[38;5;66;03m# Extract the population density variable\u001b[39;00m\n\u001b[1;32m     12\u001b[0m pop_density \u001b[38;5;241m=\u001b[39m dataset[\u001b[38;5;124m'\u001b[39m\u001b[38;5;124mgpw-v4-population-density_rev11_2020_30_sec\u001b[39m\u001b[38;5;124m'\u001b[39m]\n",
      "File \u001b[0;32m~/.pyenv/versions/3.10.6/envs/illuminating_horizons/lib/python3.10/site-packages/pydap/client.py:78\u001b[0m, in \u001b[0;36mopen_url\u001b[0;34m(url, application, session, output_grid, timeout, verify, user_charset, protocol)\u001b[0m\n\u001b[1;32m     62\u001b[0m \u001b[38;5;28;01mdef\u001b[39;00m \u001b[38;5;21mopen_url\u001b[39m(\n\u001b[1;32m     63\u001b[0m     url,\n\u001b[1;32m     64\u001b[0m     application\u001b[38;5;241m=\u001b[39m\u001b[38;5;28;01mNone\u001b[39;00m,\n\u001b[0;32m   (...)\u001b[0m\n\u001b[1;32m     70\u001b[0m     protocol\u001b[38;5;241m=\u001b[39m\u001b[38;5;28;01mNone\u001b[39;00m,\n\u001b[1;32m     71\u001b[0m ):\n\u001b[1;32m     72\u001b[0m \u001b[38;5;250m    \u001b[39m\u001b[38;5;124;03m\"\"\"\u001b[39;00m\n\u001b[1;32m     73\u001b[0m \u001b[38;5;124;03m    Open a remote URL, returning a dataset.\u001b[39;00m\n\u001b[1;32m     74\u001b[0m \n\u001b[1;32m     75\u001b[0m \u001b[38;5;124;03m    set output_grid to `False` to retrieve only main arrays and\u001b[39;00m\n\u001b[1;32m     76\u001b[0m \u001b[38;5;124;03m    never retrieve coordinate axes.\u001b[39;00m\n\u001b[1;32m     77\u001b[0m \u001b[38;5;124;03m    \"\"\"\u001b[39;00m\n\u001b[0;32m---> 78\u001b[0m     handler \u001b[38;5;241m=\u001b[39m \u001b[43mpydap\u001b[49m\u001b[38;5;241;43m.\u001b[39;49m\u001b[43mhandlers\u001b[49m\u001b[38;5;241;43m.\u001b[39;49m\u001b[43mdap\u001b[49m\u001b[38;5;241;43m.\u001b[39;49m\u001b[43mDAPHandler\u001b[49m\u001b[43m(\u001b[49m\n\u001b[1;32m     79\u001b[0m \u001b[43m        \u001b[49m\u001b[43murl\u001b[49m\u001b[43m,\u001b[49m\n\u001b[1;32m     80\u001b[0m \u001b[43m        \u001b[49m\u001b[43mapplication\u001b[49m\u001b[43m,\u001b[49m\n\u001b[1;32m     81\u001b[0m \u001b[43m        \u001b[49m\u001b[43msession\u001b[49m\u001b[43m,\u001b[49m\n\u001b[1;32m     82\u001b[0m \u001b[43m        \u001b[49m\u001b[43moutput_grid\u001b[49m\u001b[43m,\u001b[49m\n\u001b[1;32m     83\u001b[0m \u001b[43m        \u001b[49m\u001b[43mtimeout\u001b[49m\u001b[38;5;241;43m=\u001b[39;49m\u001b[43mtimeout\u001b[49m\u001b[43m,\u001b[49m\n\u001b[1;32m     84\u001b[0m \u001b[43m        \u001b[49m\u001b[43mverify\u001b[49m\u001b[38;5;241;43m=\u001b[39;49m\u001b[43mverify\u001b[49m\u001b[43m,\u001b[49m\n\u001b[1;32m     85\u001b[0m \u001b[43m        \u001b[49m\u001b[43muser_charset\u001b[49m\u001b[38;5;241;43m=\u001b[39;49m\u001b[43muser_charset\u001b[49m\u001b[43m,\u001b[49m\n\u001b[1;32m     86\u001b[0m \u001b[43m        \u001b[49m\u001b[43mprotocol\u001b[49m\u001b[38;5;241;43m=\u001b[39;49m\u001b[43mprotocol\u001b[49m\u001b[43m,\u001b[49m\n\u001b[1;32m     87\u001b[0m \u001b[43m    \u001b[49m\u001b[43m)\u001b[49m\n\u001b[1;32m     88\u001b[0m     dataset \u001b[38;5;241m=\u001b[39m handler\u001b[38;5;241m.\u001b[39mdataset\n\u001b[1;32m     90\u001b[0m     \u001b[38;5;66;03m# attach server-side functions\u001b[39;00m\n",
      "File \u001b[0;32m~/.pyenv/versions/3.10.6/envs/illuminating_horizons/lib/python3.10/site-packages/pydap/handlers/dap.py:98\u001b[0m, in \u001b[0;36mDAPHandler.__init__\u001b[0;34m(self, url, application, session, output_grid, timeout, verify, user_charset, protocol)\u001b[0m\n\u001b[1;32m     89\u001b[0m arg \u001b[38;5;241m=\u001b[39m (\n\u001b[1;32m     90\u001b[0m     \u001b[38;5;28mself\u001b[39m\u001b[38;5;241m.\u001b[39mscheme,\n\u001b[1;32m     91\u001b[0m     \u001b[38;5;28mself\u001b[39m\u001b[38;5;241m.\u001b[39mnetloc,\n\u001b[0;32m   (...)\u001b[0m\n\u001b[1;32m     95\u001b[0m     \u001b[38;5;28mself\u001b[39m\u001b[38;5;241m.\u001b[39mfragment,\n\u001b[1;32m     96\u001b[0m )\n\u001b[1;32m     97\u001b[0m \u001b[38;5;28mself\u001b[39m\u001b[38;5;241m.\u001b[39mbase_url \u001b[38;5;241m=\u001b[39m urlunparse(arg)\n\u001b[0;32m---> 98\u001b[0m \u001b[38;5;28;43mself\u001b[39;49m\u001b[38;5;241;43m.\u001b[39;49m\u001b[43mmake_dataset\u001b[49m\u001b[43m(\u001b[49m\u001b[43m)\u001b[49m\n\u001b[1;32m     99\u001b[0m \u001b[38;5;28mself\u001b[39m\u001b[38;5;241m.\u001b[39madd_proxies()\n",
      "File \u001b[0;32m~/.pyenv/versions/3.10.6/envs/illuminating_horizons/lib/python3.10/site-packages/pydap/handlers/dap.py:134\u001b[0m, in \u001b[0;36mDAPHandler.make_dataset\u001b[0;34m(self)\u001b[0m\n\u001b[1;32m    132\u001b[0m     \u001b[38;5;28mself\u001b[39m\u001b[38;5;241m.\u001b[39mdataset_from_dap4()\n\u001b[1;32m    133\u001b[0m \u001b[38;5;28;01melse\u001b[39;00m:\n\u001b[0;32m--> 134\u001b[0m     \u001b[38;5;28;43mself\u001b[39;49m\u001b[38;5;241;43m.\u001b[39;49m\u001b[43mdataset_from_dap2\u001b[49m\u001b[43m(\u001b[49m\u001b[43m)\u001b[49m\n\u001b[1;32m    135\u001b[0m     \u001b[38;5;28mself\u001b[39m\u001b[38;5;241m.\u001b[39mattach_das()\n",
      "File \u001b[0;32m~/.pyenv/versions/3.10.6/envs/illuminating_horizons/lib/python3.10/site-packages/pydap/handlers/dap.py:178\u001b[0m, in \u001b[0;36mDAPHandler.dataset_from_dap2\u001b[0;34m(self)\u001b[0m\n\u001b[1;32m    161\u001b[0m dds_url \u001b[38;5;241m=\u001b[39m urlunparse(\n\u001b[1;32m    162\u001b[0m     (\n\u001b[1;32m    163\u001b[0m         \u001b[38;5;28mself\u001b[39m\u001b[38;5;241m.\u001b[39mscheme,\n\u001b[0;32m   (...)\u001b[0m\n\u001b[1;32m    169\u001b[0m     )\n\u001b[1;32m    170\u001b[0m )\n\u001b[1;32m    171\u001b[0m r \u001b[38;5;241m=\u001b[39m GET(\n\u001b[1;32m    172\u001b[0m     dds_url,\n\u001b[1;32m    173\u001b[0m     \u001b[38;5;28mself\u001b[39m\u001b[38;5;241m.\u001b[39mapplication,\n\u001b[0;32m   (...)\u001b[0m\n\u001b[1;32m    176\u001b[0m     verify\u001b[38;5;241m=\u001b[39m\u001b[38;5;28mself\u001b[39m\u001b[38;5;241m.\u001b[39mverify,\n\u001b[1;32m    177\u001b[0m )\n\u001b[0;32m--> 178\u001b[0m \u001b[43mraise_for_status\u001b[49m\u001b[43m(\u001b[49m\u001b[43mr\u001b[49m\u001b[43m)\u001b[49m\n\u001b[1;32m    179\u001b[0m dds \u001b[38;5;241m=\u001b[39m safe_charset_text(r, \u001b[38;5;28mself\u001b[39m\u001b[38;5;241m.\u001b[39muser_charset)\n\u001b[1;32m    180\u001b[0m \u001b[38;5;28mself\u001b[39m\u001b[38;5;241m.\u001b[39mdataset \u001b[38;5;241m=\u001b[39m dds_to_dataset(dds)\n",
      "File \u001b[0;32m~/.pyenv/versions/3.10.6/envs/illuminating_horizons/lib/python3.10/site-packages/pydap/net.py:37\u001b[0m, in \u001b[0;36mraise_for_status\u001b[0;34m(response)\u001b[0m\n\u001b[1;32m     34\u001b[0m \u001b[38;5;28;01mdef\u001b[39;00m \u001b[38;5;21mraise_for_status\u001b[39m(response):\n\u001b[1;32m     35\u001b[0m     \u001b[38;5;66;03m# Raise error if status is above 300:\u001b[39;00m\n\u001b[1;32m     36\u001b[0m     \u001b[38;5;28;01mif\u001b[39;00m response\u001b[38;5;241m.\u001b[39mstatus_code \u001b[38;5;241m>\u001b[39m\u001b[38;5;241m=\u001b[39m \u001b[38;5;241m400\u001b[39m:\n\u001b[0;32m---> 37\u001b[0m         \u001b[38;5;28;01mraise\u001b[39;00m HTTPError(\n\u001b[1;32m     38\u001b[0m             detail\u001b[38;5;241m=\u001b[39mresponse\u001b[38;5;241m.\u001b[39mstatus \u001b[38;5;241m+\u001b[39m \u001b[38;5;124m\"\u001b[39m\u001b[38;5;130;01m\\n\u001b[39;00m\u001b[38;5;124m\"\u001b[39m \u001b[38;5;241m+\u001b[39m response\u001b[38;5;241m.\u001b[39mtext,\n\u001b[1;32m     39\u001b[0m             headers\u001b[38;5;241m=\u001b[39mresponse\u001b[38;5;241m.\u001b[39mheaders,\n\u001b[1;32m     40\u001b[0m             comment\u001b[38;5;241m=\u001b[39mresponse\u001b[38;5;241m.\u001b[39mbody,\n\u001b[1;32m     41\u001b[0m         )\n\u001b[1;32m     42\u001b[0m     \u001b[38;5;28;01melif\u001b[39;00m response\u001b[38;5;241m.\u001b[39mstatus_code \u001b[38;5;241m>\u001b[39m\u001b[38;5;241m=\u001b[39m \u001b[38;5;241m300\u001b[39m:\n\u001b[1;32m     43\u001b[0m         \u001b[38;5;28;01mtry\u001b[39;00m:\n",
      "\u001b[0;31mHTTPError\u001b[0m: 404 Not Found\n\n\n\n\n\n\n\n<!DOCTYPE html PUBLIC \"-//W3C//DTD XHTML 1.0 Transitional//EN\" \"http://www.w3.org/TR/xhtml1/DTD/xhtml1-transitional.dtd\">\n\n\n<html xmlns=\"http://www.w3.org/1999/xhtml\">\n<head>\n    <meta http-equiv=\"Content-Type\" content=\"text/html; charset=UTF-8\"/>\n    <link rel='stylesheet' href='/opendap/docs/css/contents.css' type='text/css'/>\n    <title>Hyrax - Resource Not Found (404)</title>\n</head>\n\n<body>\n<p align=\"left\">&nbsp;</p>\n\n<h1 align=\"center\">Hyrax - Resource Not Found (404)</h1>\n<hr align=\"left\" size=\"1\" noshade=\"noshade\"/>\n<table width=\"100%\" border=\"0\">\n    <tr>\n        <td>\n            <a href=\"/opendap/docs/images/largeEarth.jpg\">\n            <img src=\"/opendap/docs/images/smallEarth.jpg\"\n                 alt=\"I looked everywhere!\"\n                 title=\"I looked everywhere!\"\n                 border=\"0\"/>\n            </a>\n        </td>\n\n        <td>\n            <p align=\"left\">The URL requested does not describe a resource that can be found on this server.</p>\n\n            <p align=\"left\">If you would like to start at the top level of this server, go <a\n                    href=\"/opendap/\"><strong>HERE</strong></a>.</p>\n\n            \n            <p align=\"left\">The specific error message associated with your request was:</p>\n            <blockquote> <p><strong>Failed to locate resource: /gpw-v4/gpw-v4-population-density-rev11_2020/gpw-v4-population-density-rev11_2020.nc.dds </strong></p> </blockquote>\n            \n            \n            <p align=\"left\"> If you think that the server is broken (that the URL you submitted should have worked),\n                then please contact the OPeNDAP user support coordinator at:\n                <a href=\"mailto:support@opendap.org?subject=Hyrax Error 404&amp;body=%0A%0A%0A%0A%0A# -- -- -- -- -- -- -- -- -- -- -- -- -- -- -- -- --%0A# %0A# We&#39;re sorry you had a problem using the server.%0A# Please use the space above to describe what you%0A# were trying to do and we will try to assist you.%0A# Thanks,%0A# OPeNDAP Support.%0A# %0A# -- -- -- hyrax error info, please include -- -- --%0A# %0A# request_url: https://sedac.ciesin.columbia.edu/opendap/error/error404.jsp%0A# protocol: HTTP/1.1%0A# server: sedac.ciesin.columbia.edu%0A# port: 443%0A# javax.servlet.forward.request_uri: /opendap/gpw-v4/gpw-v4-population-density-rev11_2020/gpw-v4-population-density-rev11_2020.nc.dds%0A# query_string: n/a%0A# status: 404%0A# message: Failed to locate resource: /gpw-v4/gpw-v4-population-density-rev11_2020/gpw-v4-population-density-rev11_2020.nc.dds%0A# %0A# -- -- -- -- -- -- -- -- -- -- -- -- -- -- -- -- --%0A\">support@opendap.org</a>\n            </p>\n            \n\n        </td>\n    </tr>\n</table>\n<hr align=\"left\" size=\"1\" noshade=\"noshade\"/>\n<h1 align=\"center\">Hyrax - Resource Not Found (404)</h1>\n</body>\n</html>\n"
     ]
    }
   ],
   "source": [
    "from pydap.client import open_url\n",
    "import matplotlib.pyplot as plt\n",
    "import numpy as np\n",
    "\n",
    "# OPeNDAP URL for GPWv4 data\n",
    "url = \"https://sedac.ciesin.columbia.edu/opendap/gpw-v4/gpw-v4-population-density-rev11_2020/gpw-v4-population-density-rev11_2020.nc\"\n",
    "\n",
    "# Open the dataset\n",
    "dataset = open_url(url)\n",
    "\n",
    "# Extract the population density variable\n",
    "pop_density = dataset['gpw-v4-population-density_rev11_2020_30_sec']\n",
    "\n",
    "# Extract data for the bounding box around Florida (e.g., latitude: 24.396308 - 31.000968, longitude: -87.634938 - -80.031362)\n",
    "lat = dataset['lat'][:]\n",
    "lon = dataset['lon'][:]\n",
    "\n",
    "# Define the bounding box for Florida\n",
    "lat_min, lat_max = 24.396308, 31.000968\n",
    "lon_min, lon_max = -87.634938, -80.031362\n",
    "\n",
    "# Find the indices corresponding to the bounding box\n",
    "lat_indices = np.where((lat >= lat_min) & (lat <= lat_max))[0]\n",
    "lon_indices = np.where((lon >= lon_min) & (lon <= lon_max))[0]\n",
    "\n",
    "# Subset the population density data for Florida\n",
    "florida_pop_density = pop_density[0, lat_indices.min():lat_indices.max(), lon_indices.min():lon_indices.max()]\n",
    "\n",
    "# Plot the population density\n",
    "plt.imshow(florida_pop_density, extent=[lon_min, lon_max, lat_min, lat_max], cmap='viridis')\n",
    "plt.colorbar(label='Population Density (people per sq. km)')\n",
    "plt.title('Population Density in Florida (2020)')\n",
    "plt.xlabel('Longitude')\n",
    "plt.ylabel('Latitude')\n",
    "plt.show()"
   ]
  }
 ],
 "metadata": {
  "kernelspec": {
   "display_name": "illuminating_horizons",
   "language": "python",
   "name": "python3"
  },
  "language_info": {
   "codemirror_mode": {
    "name": "ipython",
    "version": 3
   },
   "file_extension": ".py",
   "mimetype": "text/x-python",
   "name": "python",
   "nbconvert_exporter": "python",
   "pygments_lexer": "ipython3",
   "version": "3.10.6"
  }
 },
 "nbformat": 4,
 "nbformat_minor": 2
}
