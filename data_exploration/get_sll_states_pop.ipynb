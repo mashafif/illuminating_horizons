{
 "cells": [
  {
   "cell_type": "code",
   "execution_count": 6,
   "metadata": {},
   "outputs": [],
   "source": [
    "import os\n",
    "import sys\n",
    "import geopandas as gpd\n",
    "import pandas as pd\n",
    "# Local\n",
    "parent_dir = os.path.abspath(os.path.join(os.getcwd(), '..'))\n",
    "sys.path.append(parent_dir)\n",
    "from illuminating.data_preparation.geodata_processing import download_gdf"
   ]
  },
  {
   "cell_type": "code",
   "execution_count": 18,
   "metadata": {},
   "outputs": [
    {
     "name": "stdout",
     "output_type": "stream",
     "text": [
      "ls: ../raw_data/gadm_gdf/gdf_CONUS_raw_.geojson: No such file or directory\n"
     ]
    }
   ],
   "source": [
    "!ls ../raw_data/gadm_gdf/gdf_CONUS_raw_.geojson"
   ]
  },
  {
   "cell_type": "code",
   "execution_count": 19,
   "metadata": {},
   "outputs": [],
   "source": [
    "gdf = gpd.read_file(f'../raw_data/gadm_gdf/gdf_CONUS_raw_.geojson')"
   ]
  },
  {
   "cell_type": "code",
   "execution_count": 22,
   "metadata": {},
   "outputs": [
    {
     "name": "stdout",
     "output_type": "stream",
     "text": [
      "/Users/kaorukure/code/mashafif/illuminating_horizons/data_exploration\n"
     ]
    }
   ],
   "source": [
    "!pwd"
   ]
  },
  {
   "cell_type": "code",
   "execution_count": 21,
   "metadata": {},
   "outputs": [],
   "source": [
    "# Shape data\n",
    "gdf = gpd.read_file(f'../raw_data/gadm_gdf/gdf_CONUS_boundary.geojson')\n",
    "\n",
    "import rioxarray\n",
    "# Load the population density data\n",
    "# Assuming the file is a NetCDF or GeoTIFF\n",
    "pop_density = rioxarray.open_rasterio('../raw_data/population/population.tif')\n",
    "\n",
    "# Ensure the data has a CRS (coordinate reference system)\n",
    "pop_density = pop_density.rio.write_crs(\"EPSG:4326\")\n",
    "state_pop_density = pop_density.rio.clip(gdf.geometry, gdf.crs)\n",
    "state_pop_density.rio.to_raster(f'../raw_data/population_2020_CONUS_.tif')"
   ]
  },
  {
   "cell_type": "code",
   "execution_count": 8,
   "metadata": {},
   "outputs": [
    {
     "data": {
      "text/plain": [
       "['Aruba',\n",
       " 'Afghanistan',\n",
       " 'Angola',\n",
       " 'Anguilla',\n",
       " 'Åland Islands',\n",
       " 'Albania',\n",
       " 'Andorra',\n",
       " 'United Arab Emirates',\n",
       " 'Argentina',\n",
       " 'Armenia',\n",
       " 'American Samoa',\n",
       " 'Antarctica',\n",
       " 'French Southern Territories',\n",
       " 'Antigua and Barbuda',\n",
       " 'Australia',\n",
       " 'Austria',\n",
       " 'Azerbaijan',\n",
       " 'Burundi',\n",
       " 'Belgium',\n",
       " 'Benin',\n",
       " 'Bonaire, Sint Eustatius and Saba',\n",
       " 'Burkina Faso',\n",
       " 'Bangladesh',\n",
       " 'Bulgaria',\n",
       " 'Bahrain',\n",
       " 'Bahamas',\n",
       " 'Bosnia and Herzegovina',\n",
       " 'Saint Barthélemy',\n",
       " 'Belarus',\n",
       " 'Belize',\n",
       " 'Bermuda',\n",
       " 'Bolivia, Plurinational State of',\n",
       " 'Brazil',\n",
       " 'Barbados',\n",
       " 'Brunei Darussalam',\n",
       " 'Bhutan',\n",
       " 'Bouvet Island',\n",
       " 'Botswana',\n",
       " 'Central African Republic',\n",
       " 'Canada',\n",
       " 'Cocos (Keeling) Islands',\n",
       " 'Switzerland',\n",
       " 'Chile',\n",
       " 'China',\n",
       " \"Côte d'Ivoire\",\n",
       " 'Cameroon',\n",
       " 'Congo, The Democratic Republic of the',\n",
       " 'Congo',\n",
       " 'Cook Islands',\n",
       " 'Colombia',\n",
       " 'Comoros',\n",
       " 'Cabo Verde',\n",
       " 'Costa Rica',\n",
       " 'Cuba',\n",
       " 'Curaçao',\n",
       " 'Christmas Island',\n",
       " 'Cayman Islands',\n",
       " 'Cyprus',\n",
       " 'Czechia',\n",
       " 'Germany',\n",
       " 'Djibouti',\n",
       " 'Dominica',\n",
       " 'Denmark',\n",
       " 'Dominican Republic',\n",
       " 'Algeria',\n",
       " 'Ecuador',\n",
       " 'Egypt',\n",
       " 'Eritrea',\n",
       " 'Western Sahara',\n",
       " 'Spain',\n",
       " 'Estonia',\n",
       " 'Ethiopia',\n",
       " 'Finland',\n",
       " 'Fiji',\n",
       " 'Falkland Islands (Malvinas)',\n",
       " 'France',\n",
       " 'Faroe Islands',\n",
       " 'Micronesia, Federated States of',\n",
       " 'Gabon',\n",
       " 'United Kingdom',\n",
       " 'Georgia',\n",
       " 'Guernsey',\n",
       " 'Ghana',\n",
       " 'Gibraltar',\n",
       " 'Guinea',\n",
       " 'Guadeloupe',\n",
       " 'Gambia',\n",
       " 'Guinea-Bissau',\n",
       " 'Equatorial Guinea',\n",
       " 'Greece',\n",
       " 'Grenada',\n",
       " 'Greenland',\n",
       " 'Guatemala',\n",
       " 'French Guiana',\n",
       " 'Guam',\n",
       " 'Guyana',\n",
       " 'Hong Kong',\n",
       " 'Heard Island and McDonald Islands',\n",
       " 'Honduras',\n",
       " 'Croatia',\n",
       " 'Haiti',\n",
       " 'Hungary',\n",
       " 'Indonesia',\n",
       " 'Isle of Man',\n",
       " 'India',\n",
       " 'British Indian Ocean Territory',\n",
       " 'Ireland',\n",
       " 'Iran, Islamic Republic of',\n",
       " 'Iraq',\n",
       " 'Iceland',\n",
       " 'Israel',\n",
       " 'Italy',\n",
       " 'Jamaica',\n",
       " 'Jersey',\n",
       " 'Jordan',\n",
       " 'Japan',\n",
       " 'Kazakhstan',\n",
       " 'Kenya',\n",
       " 'Kyrgyzstan',\n",
       " 'Cambodia',\n",
       " 'Kiribati',\n",
       " 'Saint Kitts and Nevis',\n",
       " 'Korea, Republic of',\n",
       " 'Kuwait',\n",
       " \"Lao People's Democratic Republic\",\n",
       " 'Lebanon',\n",
       " 'Liberia',\n",
       " 'Libya',\n",
       " 'Saint Lucia',\n",
       " 'Liechtenstein',\n",
       " 'Sri Lanka',\n",
       " 'Lesotho',\n",
       " 'Lithuania',\n",
       " 'Luxembourg',\n",
       " 'Latvia',\n",
       " 'Macao',\n",
       " 'Saint Martin (French part)',\n",
       " 'Morocco',\n",
       " 'Monaco',\n",
       " 'Moldova, Republic of',\n",
       " 'Madagascar',\n",
       " 'Maldives',\n",
       " 'Mexico',\n",
       " 'Marshall Islands',\n",
       " 'North Macedonia',\n",
       " 'Mali',\n",
       " 'Malta',\n",
       " 'Myanmar',\n",
       " 'Montenegro',\n",
       " 'Mongolia',\n",
       " 'Northern Mariana Islands',\n",
       " 'Mozambique',\n",
       " 'Mauritania',\n",
       " 'Montserrat',\n",
       " 'Martinique',\n",
       " 'Mauritius',\n",
       " 'Malawi',\n",
       " 'Malaysia',\n",
       " 'Mayotte',\n",
       " 'Namibia',\n",
       " 'New Caledonia',\n",
       " 'Niger',\n",
       " 'Norfolk Island',\n",
       " 'Nigeria',\n",
       " 'Nicaragua',\n",
       " 'Niue',\n",
       " 'Netherlands',\n",
       " 'Norway',\n",
       " 'Nepal',\n",
       " 'Nauru',\n",
       " 'New Zealand',\n",
       " 'Oman',\n",
       " 'Pakistan',\n",
       " 'Panama',\n",
       " 'Pitcairn',\n",
       " 'Peru',\n",
       " 'Philippines',\n",
       " 'Palau',\n",
       " 'Papua New Guinea',\n",
       " 'Poland',\n",
       " 'Puerto Rico',\n",
       " \"Korea, Democratic People's Republic of\",\n",
       " 'Portugal',\n",
       " 'Paraguay',\n",
       " 'Palestine, State of',\n",
       " 'French Polynesia',\n",
       " 'Qatar',\n",
       " 'Réunion',\n",
       " 'Romania',\n",
       " 'Russian Federation',\n",
       " 'Rwanda',\n",
       " 'Saudi Arabia',\n",
       " 'Sudan',\n",
       " 'Senegal',\n",
       " 'Singapore',\n",
       " 'South Georgia and the South Sandwich Islands',\n",
       " 'Saint Helena, Ascension and Tristan da Cunha',\n",
       " 'Svalbard and Jan Mayen',\n",
       " 'Solomon Islands',\n",
       " 'Sierra Leone',\n",
       " 'El Salvador',\n",
       " 'San Marino',\n",
       " 'Somalia',\n",
       " 'Saint Pierre and Miquelon',\n",
       " 'Serbia',\n",
       " 'South Sudan',\n",
       " 'Sao Tome and Principe',\n",
       " 'Suriname',\n",
       " 'Slovakia',\n",
       " 'Slovenia',\n",
       " 'Sweden',\n",
       " 'Eswatini',\n",
       " 'Sint Maarten (Dutch part)',\n",
       " 'Seychelles',\n",
       " 'Syrian Arab Republic',\n",
       " 'Turks and Caicos Islands',\n",
       " 'Chad',\n",
       " 'Togo',\n",
       " 'Thailand',\n",
       " 'Tajikistan',\n",
       " 'Tokelau',\n",
       " 'Turkmenistan',\n",
       " 'Timor-Leste',\n",
       " 'Tonga',\n",
       " 'Trinidad and Tobago',\n",
       " 'Tunisia',\n",
       " 'Türkiye',\n",
       " 'Tuvalu',\n",
       " 'Taiwan, Province of China',\n",
       " 'Tanzania, United Republic of',\n",
       " 'Uganda',\n",
       " 'Ukraine',\n",
       " 'United States Minor Outlying Islands',\n",
       " 'Uruguay',\n",
       " 'United States',\n",
       " 'Uzbekistan',\n",
       " 'Holy See (Vatican City State)',\n",
       " 'Saint Vincent and the Grenadines',\n",
       " 'Venezuela, Bolivarian Republic of',\n",
       " 'Virgin Islands, British',\n",
       " 'Virgin Islands, U.S.',\n",
       " 'Viet Nam',\n",
       " 'Vanuatu',\n",
       " 'Wallis and Futuna',\n",
       " 'Samoa',\n",
       " 'Yemen',\n",
       " 'South Africa',\n",
       " 'Zambia',\n",
       " 'Zimbabwe']"
      ]
     },
     "execution_count": 8,
     "metadata": {},
     "output_type": "execute_result"
    }
   ],
   "source": [
    "import pycountry\n",
    "\n",
    "# List all country names\n",
    "country_names = [country.name for country in pycountry.countries]\n",
    "country_names"
   ]
  },
  {
   "cell_type": "code",
   "execution_count": 9,
   "metadata": {},
   "outputs": [
    {
     "data": {
      "text/plain": [
       "['PT',\n",
       " 'JM',\n",
       " 'HR',\n",
       " 'KH',\n",
       " 'FO',\n",
       " 'ET',\n",
       " 'EC',\n",
       " 'PW',\n",
       " 'DE',\n",
       " 'FM',\n",
       " 'IT',\n",
       " 'JO',\n",
       " 'GH',\n",
       " 'PA',\n",
       " 'PR',\n",
       " 'PE',\n",
       " 'QA',\n",
       " 'GL',\n",
       " 'ES',\n",
       " 'HT',\n",
       " 'KY',\n",
       " 'IQ',\n",
       " 'HU',\n",
       " 'KN',\n",
       " 'EE',\n",
       " 'FI',\n",
       " 'ER',\n",
       " 'GM',\n",
       " 'PS',\n",
       " 'PF',\n",
       " 'EG',\n",
       " 'IS',\n",
       " 'ID',\n",
       " 'KZ',\n",
       " 'IE',\n",
       " 'KM',\n",
       " 'IR',\n",
       " 'GY',\n",
       " 'GN',\n",
       " 'FJ',\n",
       " 'PG',\n",
       " 'CA',\n",
       " 'BE',\n",
       " 'CV',\n",
       " 'BR',\n",
       " 'AI',\n",
       " 'LY',\n",
       " 'NP',\n",
       " 'MK',\n",
       " 'NG',\n",
       " 'BS',\n",
       " 'BD',\n",
       " 'BF',\n",
       " 'BQ',\n",
       " 'CU',\n",
       " 'NE',\n",
       " 'NR',\n",
       " 'MH',\n",
       " 'BG',\n",
       " 'BT',\n",
       " 'AO',\n",
       " 'AX',\n",
       " 'CG',\n",
       " 'ML',\n",
       " 'MZ',\n",
       " 'NA',\n",
       " 'LI',\n",
       " 'MM',\n",
       " 'CF',\n",
       " 'BB',\n",
       " 'BW',\n",
       " 'AL',\n",
       " 'CD',\n",
       " 'LK',\n",
       " 'NC',\n",
       " 'MX',\n",
       " 'MY',\n",
       " 'MN',\n",
       " 'BA',\n",
       " 'AZ',\n",
       " 'AM',\n",
       " 'CR',\n",
       " 'BL',\n",
       " 'CH',\n",
       " 'NO',\n",
       " 'MT',\n",
       " 'MU',\n",
       " 'CI',\n",
       " 'BM',\n",
       " 'BZ',\n",
       " 'CK',\n",
       " 'AT',\n",
       " 'BO',\n",
       " 'LS',\n",
       " 'NL',\n",
       " 'MW',\n",
       " 'LR',\n",
       " 'NZ',\n",
       " 'MA',\n",
       " 'AU',\n",
       " 'BY',\n",
       " 'CN',\n",
       " 'BJ',\n",
       " 'CY',\n",
       " 'AF',\n",
       " 'OM',\n",
       " 'LV',\n",
       " 'NI',\n",
       " 'MR',\n",
       " 'LA',\n",
       " 'ME',\n",
       " 'MD',\n",
       " 'MS',\n",
       " 'AG',\n",
       " 'CO',\n",
       " 'TF',\n",
       " 'YT',\n",
       " 'AR',\n",
       " 'BI',\n",
       " 'CM',\n",
       " 'AE',\n",
       " 'CZ',\n",
       " 'MQ',\n",
       " 'LU',\n",
       " 'LB',\n",
       " 'LC',\n",
       " 'MG',\n",
       " 'LT',\n",
       " 'MP',\n",
       " 'AD',\n",
       " 'CL',\n",
       " 'BH',\n",
       " 'AS',\n",
       " 'GT',\n",
       " 'DO',\n",
       " 'KW',\n",
       " 'JE',\n",
       " 'GU',\n",
       " 'GB',\n",
       " 'PK',\n",
       " 'EH',\n",
       " 'GW',\n",
       " 'JP',\n",
       " 'HN',\n",
       " 'DM',\n",
       " 'FR',\n",
       " 'GA',\n",
       " 'DZ',\n",
       " 'PH',\n",
       " 'CONUS',\n",
       " 'PL',\n",
       " 'GR',\n",
       " 'GE',\n",
       " 'IN',\n",
       " 'KG',\n",
       " 'KP',\n",
       " 'GD',\n",
       " 'RE',\n",
       " 'GQ',\n",
       " 'DJ',\n",
       " 'GF',\n",
       " 'KR',\n",
       " 'IM',\n",
       " 'KE',\n",
       " 'IL',\n",
       " 'GG',\n",
       " 'DK',\n",
       " 'GP',\n",
       " 'PY']"
      ]
     },
     "execution_count": 9,
     "metadata": {},
     "output_type": "execute_result"
    }
   ],
   "source": [
    "import glob\n",
    "DONE = [x.split('/')[-1].split('.')[0].split('_')[-1] for x in glob.glob('../raw_data/population_2020_*.tif')]\n",
    "DONE"
   ]
  },
  {
   "cell_type": "code",
   "execution_count": 27,
   "metadata": {},
   "outputs": [
    {
     "name": "stdout",
     "output_type": "stream",
     "text": [
      "Processing country Afghanistan\n"
     ]
    },
    {
     "ename": "ValueError",
     "evalue": "Unsupported geometry type FeatureCollection",
     "output_type": "error",
     "traceback": [
      "\u001b[0;31m---------------------------------------------------------------------------\u001b[0m",
      "\u001b[0;31mValueError\u001b[0m                                Traceback (most recent call last)",
      "Cell \u001b[0;32mIn[27], line 20\u001b[0m\n\u001b[1;32m     18\u001b[0m     gdf \u001b[38;5;241m=\u001b[39m gpd\u001b[38;5;241m.\u001b[39mread_file(\u001b[38;5;124mf\u001b[39m\u001b[38;5;124m'\u001b[39m\u001b[38;5;124m../raw_data/gadm_gdf/gdf_\u001b[39m\u001b[38;5;132;01m{\u001b[39;00miso2\u001b[38;5;132;01m}\u001b[39;00m\u001b[38;5;124m.geojson\u001b[39m\u001b[38;5;124m'\u001b[39m)\n\u001b[1;32m     19\u001b[0m     shape \u001b[38;5;241m=\u001b[39m gdf\u001b[38;5;241m.\u001b[39mgeometry\n\u001b[0;32m---> 20\u001b[0m     state_pop_density \u001b[38;5;241m=\u001b[39m \u001b[43mpop_density\u001b[49m\u001b[38;5;241;43m.\u001b[39;49m\u001b[43mrio\u001b[49m\u001b[38;5;241;43m.\u001b[39;49m\u001b[43mclip\u001b[49m\u001b[43m(\u001b[49m\u001b[43mgdf\u001b[49m\u001b[38;5;241;43m.\u001b[39;49m\u001b[43mgeometry\u001b[49m\u001b[43m,\u001b[49m\u001b[43m \u001b[49m\u001b[43mgdf\u001b[49m\u001b[38;5;241;43m.\u001b[39;49m\u001b[43mcrs\u001b[49m\u001b[43m)\u001b[49m\n\u001b[1;32m     21\u001b[0m     state_pop_density\u001b[38;5;241m.\u001b[39mrio\u001b[38;5;241m.\u001b[39mto_raster(\u001b[38;5;124mf\u001b[39m\u001b[38;5;124m'\u001b[39m\u001b[38;5;124m../raw_data/population_3857_2020_\u001b[39m\u001b[38;5;132;01m{\u001b[39;00miso2\u001b[38;5;132;01m}\u001b[39;00m\u001b[38;5;124m.tif\u001b[39m\u001b[38;5;124m'\u001b[39m)\n\u001b[1;32m     22\u001b[0m \u001b[38;5;28;01melse\u001b[39;00m:\n",
      "File \u001b[0;32m~/.pyenv/versions/3.10.6/envs/illuminating_horizons/lib/python3.10/site-packages/rioxarray/raster_array.py:910\u001b[0m, in \u001b[0;36mRasterArray.clip\u001b[0;34m(self, geometries, crs, all_touched, drop, invert, from_disk)\u001b[0m\n\u001b[1;32m    908\u001b[0m crs \u001b[38;5;241m=\u001b[39m crs_from_user_input(crs) \u001b[38;5;28;01mif\u001b[39;00m crs \u001b[38;5;129;01mis\u001b[39;00m \u001b[38;5;129;01mnot\u001b[39;00m \u001b[38;5;28;01mNone\u001b[39;00m \u001b[38;5;28;01melse\u001b[39;00m \u001b[38;5;28mself\u001b[39m\u001b[38;5;241m.\u001b[39mcrs\n\u001b[1;32m    909\u001b[0m \u001b[38;5;28;01mif\u001b[39;00m \u001b[38;5;28mself\u001b[39m\u001b[38;5;241m.\u001b[39mcrs \u001b[38;5;241m!=\u001b[39m crs:\n\u001b[0;32m--> 910\u001b[0m     geometries \u001b[38;5;241m=\u001b[39m \u001b[43mrasterio\u001b[49m\u001b[38;5;241;43m.\u001b[39;49m\u001b[43mwarp\u001b[49m\u001b[38;5;241;43m.\u001b[39;49m\u001b[43mtransform_geom\u001b[49m\u001b[43m(\u001b[49m\u001b[43mcrs\u001b[49m\u001b[43m,\u001b[49m\u001b[43m \u001b[49m\u001b[38;5;28;43mself\u001b[39;49m\u001b[38;5;241;43m.\u001b[39;49m\u001b[43mcrs\u001b[49m\u001b[43m,\u001b[49m\u001b[43m \u001b[49m\u001b[43mgeometries\u001b[49m\u001b[43m)\u001b[49m\n\u001b[1;32m    911\u001b[0m cropped_ds \u001b[38;5;241m=\u001b[39m \u001b[38;5;28;01mNone\u001b[39;00m\n\u001b[1;32m    912\u001b[0m \u001b[38;5;28;01mif\u001b[39;00m from_disk:\n",
      "File \u001b[0;32m~/.pyenv/versions/3.10.6/envs/illuminating_horizons/lib/python3.10/site-packages/rasterio/env.py:401\u001b[0m, in \u001b[0;36mensure_env.<locals>.wrapper\u001b[0;34m(*args, **kwds)\u001b[0m\n\u001b[1;32m    399\u001b[0m \u001b[38;5;28;01melse\u001b[39;00m:\n\u001b[1;32m    400\u001b[0m     \u001b[38;5;28;01mwith\u001b[39;00m Env\u001b[38;5;241m.\u001b[39mfrom_defaults():\n\u001b[0;32m--> 401\u001b[0m         \u001b[38;5;28;01mreturn\u001b[39;00m \u001b[43mf\u001b[49m\u001b[43m(\u001b[49m\u001b[38;5;241;43m*\u001b[39;49m\u001b[43margs\u001b[49m\u001b[43m,\u001b[49m\u001b[43m \u001b[49m\u001b[38;5;241;43m*\u001b[39;49m\u001b[38;5;241;43m*\u001b[39;49m\u001b[43mkwds\u001b[49m\u001b[43m)\u001b[49m\n",
      "File \u001b[0;32m~/.pyenv/versions/3.10.6/envs/illuminating_horizons/lib/python3.10/site-packages/rasterio/env.py:630\u001b[0m, in \u001b[0;36mrequire_gdal_version.<locals>.decorator.<locals>.wrapper\u001b[0;34m(*args, **kwds)\u001b[0m\n\u001b[1;32m    624\u001b[0m         \u001b[38;5;28;01melif\u001b[39;00m full_kwds[param] \u001b[38;5;129;01min\u001b[39;00m values:\n\u001b[1;32m    625\u001b[0m             \u001b[38;5;28;01mraise\u001b[39;00m GDALVersionError(\n\u001b[1;32m    626\u001b[0m                 \u001b[38;5;124m'\u001b[39m\u001b[38;5;124mparameter \u001b[39m\u001b[38;5;124m\"\u001b[39m\u001b[38;5;132;01m{0}\u001b[39;00m\u001b[38;5;124m=\u001b[39m\u001b[38;5;132;01m{1}\u001b[39;00m\u001b[38;5;124m\"\u001b[39m\u001b[38;5;124m requires \u001b[39m\u001b[38;5;124m'\u001b[39m\n\u001b[1;32m    627\u001b[0m                 \u001b[38;5;124m'\u001b[39m\u001b[38;5;124mGDAL \u001b[39m\u001b[38;5;132;01m{2}\u001b[39;00m\u001b[38;5;124m \u001b[39m\u001b[38;5;132;01m{3}\u001b[39;00m\u001b[38;5;132;01m{4}\u001b[39;00m\u001b[38;5;124m'\u001b[39m\u001b[38;5;241m.\u001b[39mformat(\n\u001b[1;32m    628\u001b[0m                     param, full_kwds[param], inequality, version, reason))\n\u001b[0;32m--> 630\u001b[0m \u001b[38;5;28;01mreturn\u001b[39;00m \u001b[43mf\u001b[49m\u001b[43m(\u001b[49m\u001b[38;5;241;43m*\u001b[39;49m\u001b[43margs\u001b[49m\u001b[43m,\u001b[49m\u001b[43m \u001b[49m\u001b[38;5;241;43m*\u001b[39;49m\u001b[38;5;241;43m*\u001b[39;49m\u001b[43mkwds\u001b[49m\u001b[43m)\u001b[49m\n",
      "File \u001b[0;32m~/.pyenv/versions/3.10.6/envs/illuminating_horizons/lib/python3.10/site-packages/rasterio/warp.py:104\u001b[0m, in \u001b[0;36mtransform_geom\u001b[0;34m(src_crs, dst_crs, geom, antimeridian_cutting, antimeridian_offset, precision)\u001b[0m\n\u001b[1;32m     63\u001b[0m \u001b[38;5;129m@ensure_env\u001b[39m\n\u001b[1;32m     64\u001b[0m \u001b[38;5;129m@require_gdal_version\u001b[39m(\u001b[38;5;124m'\u001b[39m\u001b[38;5;124m2.1\u001b[39m\u001b[38;5;124m'\u001b[39m, param\u001b[38;5;241m=\u001b[39m\u001b[38;5;124m'\u001b[39m\u001b[38;5;124mantimeridian_cutting\u001b[39m\u001b[38;5;124m'\u001b[39m, values\u001b[38;5;241m=\u001b[39m[\u001b[38;5;28;01mFalse\u001b[39;00m],\n\u001b[1;32m     65\u001b[0m                       is_max_version\u001b[38;5;241m=\u001b[39m\u001b[38;5;28;01mTrue\u001b[39;00m,\n\u001b[0;32m   (...)\u001b[0m\n\u001b[1;32m     73\u001b[0m         antimeridian_offset\u001b[38;5;241m=\u001b[39m\u001b[38;5;241m10.0\u001b[39m,\n\u001b[1;32m     74\u001b[0m         precision\u001b[38;5;241m=\u001b[39m\u001b[38;5;241m-\u001b[39m\u001b[38;5;241m1\u001b[39m):\n\u001b[1;32m     75\u001b[0m \u001b[38;5;250m    \u001b[39m\u001b[38;5;124;03m\"\"\"Transform geometry from source coordinate reference system into target.\u001b[39;00m\n\u001b[1;32m     76\u001b[0m \n\u001b[1;32m     77\u001b[0m \u001b[38;5;124;03m    Parameters\u001b[39;00m\n\u001b[0;32m   (...)\u001b[0m\n\u001b[1;32m    101\u001b[0m \u001b[38;5;124;03m        Transformed geometry(s) in GeoJSON dict format\u001b[39;00m\n\u001b[1;32m    102\u001b[0m \u001b[38;5;124;03m    \"\"\"\u001b[39;00m\n\u001b[0;32m--> 104\u001b[0m     \u001b[38;5;28;01mreturn\u001b[39;00m \u001b[43m_transform_geom\u001b[49m\u001b[43m(\u001b[49m\n\u001b[1;32m    105\u001b[0m \u001b[43m        \u001b[49m\u001b[43msrc_crs\u001b[49m\u001b[43m,\u001b[49m\n\u001b[1;32m    106\u001b[0m \u001b[43m        \u001b[49m\u001b[43mdst_crs\u001b[49m\u001b[43m,\u001b[49m\n\u001b[1;32m    107\u001b[0m \u001b[43m        \u001b[49m\u001b[43mgeom\u001b[49m\u001b[43m,\u001b[49m\n\u001b[1;32m    108\u001b[0m \u001b[43m        \u001b[49m\u001b[43mantimeridian_cutting\u001b[49m\u001b[43m,\u001b[49m\n\u001b[1;32m    109\u001b[0m \u001b[43m        \u001b[49m\u001b[43mantimeridian_offset\u001b[49m\u001b[43m,\u001b[49m\n\u001b[1;32m    110\u001b[0m \u001b[43m        \u001b[49m\u001b[43mprecision\u001b[49m\u001b[43m)\u001b[49m\n",
      "File \u001b[0;32mrasterio/_warp.pyx:117\u001b[0m, in \u001b[0;36mrasterio._warp._transform_geom\u001b[0;34m()\u001b[0m\n",
      "File \u001b[0;32mrasterio/_warp.pyx:74\u001b[0m, in \u001b[0;36mrasterio._warp._transform_single_geom\u001b[0;34m()\u001b[0m\n",
      "File \u001b[0;32mrasterio/_features.pyx:693\u001b[0m, in \u001b[0;36mrasterio._features.OGRGeomBuilder.build\u001b[0;34m()\u001b[0m\n",
      "\u001b[0;31mValueError\u001b[0m: Unsupported geometry type FeatureCollection"
     ]
    }
   ],
   "source": [
    "DONE = []\n",
    "\n",
    "import rioxarray\n",
    "from state_dict import *\n",
    "# Load the population density data\n",
    "# Assuming the file is a NetCDF or GeoTIFF\n",
    "pop_density = rioxarray.open_rasterio('../raw_data/population/population.tif')\n",
    "\n",
    "# Ensure the data has a CRS (coordinate reference system)\n",
    "pop_density = pop_density.rio.write_crs(\"EPSG:3857\")\n",
    "\n",
    "#gdf = gpd.read_file(f'../raw_data/gadm_gdf/gdf_CONUS.geojson')\n",
    "\n",
    "for country in country_names[1:]:\n",
    "    print(f'Processing country {country}')\n",
    "    iso2 = country_name_to_code[country]\n",
    "    if iso2 not in DONE:\n",
    "        try:\n",
    "            gdf = gpd.read_file(f'../raw_data/gadm_gdf/gdf_{iso2}.geojson')\n",
    "            shape = gdf.geometry\n",
    "            # Get the bounding box of the shapefile\n",
    "            #gdf = gpd.GeoDataFrame({'geometry': shape}, crs=\"EPSG:4326\")\n",
    "            #gdf = gpd.GeoDataFrame({'geometry': shape}, crs=\"EPSG:3857\")\n",
    "            state_pop_density = pop_density.rio.clip(gdf.geometry, gdf.crs)\n",
    "            state_pop_density.rio.to_raster(f'../raw_data/population_2020_{iso2}.tif')\n",
    "        except:\n",
    "            pass\n",
    "    else:\n",
    "        print('skipping',country)\n"
   ]
  },
  {
   "cell_type": "code",
   "execution_count": 23,
   "metadata": {},
   "outputs": [
    {
     "data": {
      "text/plain": [
       "<Geographic 2D CRS: EPSG:4326>\n",
       "Name: WGS 84\n",
       "Axis Info [ellipsoidal]:\n",
       "- Lat[north]: Geodetic latitude (degree)\n",
       "- Lon[east]: Geodetic longitude (degree)\n",
       "Area of Use:\n",
       "- name: World.\n",
       "- bounds: (-180.0, -90.0, 180.0, 90.0)\n",
       "Datum: World Geodetic System 1984 ensemble\n",
       "- Ellipsoid: WGS 84\n",
       "- Prime Meridian: Greenwich"
      ]
     },
     "execution_count": 23,
     "metadata": {},
     "output_type": "execute_result"
    }
   ],
   "source": [
    "gdf.crs"
   ]
  },
  {
   "cell_type": "code",
   "execution_count": null,
   "metadata": {},
   "outputs": [],
   "source": [
    "import rioxarray\n",
    "# Load the population density data\n",
    "# Assuming the file is a NetCDF or GeoTIFF\n",
    "pop_density = rioxarray.open_rasterio('../raw_data/population/population.tif')\n",
    "\n",
    "# Ensure the data has a CRS (coordinate reference system)\n",
    "pop_density = pop_density.rio.write_crs(\"EPSG:4326\")\n",
    "\n",
    "for state in states:\n",
    "    print(f'Processing state {state}')\n",
    "    shape = USA[USA.ISO_1==state].geometry\n",
    "    # Get the bounding box of the shapefile\n",
    "    gdf = gpd.GeoDataFrame({'geometry': shape}, crs=\"EPSG:4326\")\n",
    "    #gdf = gpd.GeoDataFrame({'geometry': shape}, crs=\"EPSG:3857\")\n",
    "    state_pop_density = pop_density.rio.clip(gdf.geometry, gdf.crs)\n",
    "    state_pop_density.rio.to_raster(f'../raw_data/population_2020_US-{state}.tif')\n",
    "    # Convert the GeoDataFrame to a mask that matches the data shape\n",
    "    # Create NTL raster"
   ]
  },
  {
   "cell_type": "code",
   "execution_count": 6,
   "metadata": {},
   "outputs": [
    {
     "name": "stdout",
     "output_type": "stream",
     "text": [
      "Processing state US-AL\n",
      "Processing state US-AK\n",
      "Processing state US-AZ\n",
      "Processing state US-AR\n",
      "Processing state US-CA\n",
      "Processing state US-CO\n",
      "Processing state US-CT\n",
      "Processing state US-DE\n",
      "Processing state US-DC\n",
      "Processing state US-FL\n",
      "Processing state US-GA\n",
      "Processing state US-HI\n",
      "Processing state US-ID\n",
      "Processing state US-IL\n",
      "Processing state US-IN\n",
      "Processing state US-IA\n",
      "Processing state US-KS\n",
      "Processing state US-KY\n",
      "Processing state US-LA\n",
      "Processing state US-ME\n",
      "Processing state US-MD\n",
      "Processing state US-MA\n",
      "Processing state US-MI\n",
      "Processing state US-MN\n",
      "Processing state US-MS\n",
      "Processing state US-MO\n",
      "Processing state US-MT\n",
      "Processing state US-NE\n",
      "Processing state US-NV\n",
      "Processing state US-NH\n",
      "Processing state US-NJ\n",
      "Processing state US-NM\n",
      "Processing state US-NY\n",
      "Processing state US-NC\n",
      "Processing state US-ND\n",
      "Processing state US-OH\n",
      "Processing state US-OK\n",
      "Processing state US-OR\n",
      "Processing state US-PA\n",
      "Processing state US-RI\n",
      "Processing state US-SC\n",
      "Processing state US-SD\n",
      "Processing state US-TN\n",
      "Processing state US-TX\n",
      "Processing state US-UT\n",
      "Processing state US-VT\n",
      "Processing state US-VA\n",
      "Processing state US-WA\n",
      "Processing state US-WV\n",
      "Processing state US-WI\n",
      "Processing state US-WY\n"
     ]
    }
   ],
   "source": [
    "import rioxarray\n",
    "# Load the population density data\n",
    "# Assuming the file is a NetCDF or GeoTIFF\n",
    "pop_density = rioxarray.open_rasterio('../raw_data/population/population.tif')\n",
    "\n",
    "# Ensure the data has a CRS (coordinate reference system)\n",
    "pop_density = pop_density.rio.write_crs(\"EPSG:4326\")\n",
    "\n",
    "for state in states:\n",
    "    print(f'Processing state {state}')\n",
    "    shape = USA[USA.ISO_1==state].geometry\n",
    "    # Get the bounding box of the shapefile\n",
    "    gdf = gpd.GeoDataFrame({'geometry': shape}, crs=\"EPSG:4326\")\n",
    "    #gdf = gpd.GeoDataFrame({'geometry': shape}, crs=\"EPSG:3857\")\n",
    "    state_pop_density = pop_density.rio.clip(gdf.geometry, gdf.crs)\n",
    "    state_pop_density.rio.to_raster(f'../raw_data/population_2020_US-{state}.tif')\n",
    "    # Convert the GeoDataFrame to a mask that matches the data shape\n",
    "    # Create NTL raster"
   ]
  },
  {
   "cell_type": "code",
   "execution_count": 24,
   "metadata": {},
   "outputs": [
    {
     "name": "stdout",
     "output_type": "stream",
     "text": [
      "Processing state US-AK\n"
     ]
    },
    {
     "name": "stderr",
     "output_type": "stream",
     "text": [
      "/Users/kaorukure/.pyenv/versions/3.10.6/envs/illuminating_horizons/lib/python3.10/site-packages/blackmarble/download.py:204: UserWarning: `keep_geom_type=True` in overlay resulted in 60 dropped geometries of different geometry types than df1 has. Set `keep_geom_type=False` to retain all geometries\n",
      "  gdf = geopandas.overlay(\n"
     ]
    },
    {
     "data": {
      "application/vnd.jupyter.widget-view+json": {
       "model_id": "6e73dd91b1b14fef913be5ec88597101",
       "version_major": 2,
       "version_minor": 0
      },
      "text/plain": [
       "GETTING MANIFEST...:   0%|          | 0/15 [00:00<?, ?it/s]"
      ]
     },
     "metadata": {},
     "output_type": "display_data"
    },
    {
     "data": {
      "application/vnd.jupyter.widget-view+json": {
       "model_id": "2570f807120e4a45861436acc43247c8",
       "version_major": 2,
       "version_minor": 0
      },
      "text/plain": [
       "QUEUEING TASKS | Downloading...:   0%|          | 0/13 [00:00<?, ?it/s]"
      ]
     },
     "metadata": {},
     "output_type": "display_data"
    },
    {
     "data": {
      "application/vnd.jupyter.widget-view+json": {
       "model_id": "2b815020b54e4098adde7c5347276bc4",
       "version_major": 2,
       "version_minor": 0
      },
      "text/plain": [
       "PROCESSING TASKS | Downloading...:   0%|          | 0/13 [00:00<?, ?it/s]"
      ]
     },
     "metadata": {},
     "output_type": "display_data"
    },
    {
     "data": {
      "application/vnd.jupyter.widget-view+json": {
       "model_id": "8e5a4a55e56c470687981f44087cd10f",
       "version_major": 2,
       "version_minor": 0
      },
      "text/plain": [
       "  0%|          | 0.00/4.38M [00:00<?, ?B/s]"
      ]
     },
     "metadata": {},
     "output_type": "display_data"
    },
    {
     "data": {
      "application/vnd.jupyter.widget-view+json": {
       "model_id": "d9605223e2024eadb0da1f44db5451ed",
       "version_major": 2,
       "version_minor": 0
      },
      "text/plain": [
       "  0%|          | 0.00/42.9M [00:00<?, ?B/s]"
      ]
     },
     "metadata": {},
     "output_type": "display_data"
    },
    {
     "data": {
      "application/vnd.jupyter.widget-view+json": {
       "model_id": "8d63b732a7af44eb8e916d1e42df8975",
       "version_major": 2,
       "version_minor": 0
      },
      "text/plain": [
       "  0%|          | 0.00/22.1M [00:00<?, ?B/s]"
      ]
     },
     "metadata": {},
     "output_type": "display_data"
    },
    {
     "data": {
      "application/vnd.jupyter.widget-view+json": {
       "model_id": "a6e3ba9404524201994ffe829f64cc80",
       "version_major": 2,
       "version_minor": 0
      },
      "text/plain": [
       "  0%|          | 0.00/44.2M [00:00<?, ?B/s]"
      ]
     },
     "metadata": {},
     "output_type": "display_data"
    },
    {
     "data": {
      "application/vnd.jupyter.widget-view+json": {
       "model_id": "1cd2bed2326b41dab19691cbcec3f9bb",
       "version_major": 2,
       "version_minor": 0
      },
      "text/plain": [
       "  0%|          | 0.00/9.07M [00:00<?, ?B/s]"
      ]
     },
     "metadata": {},
     "output_type": "display_data"
    },
    {
     "data": {
      "application/vnd.jupyter.widget-view+json": {
       "model_id": "f7f671123dde49d2ae7b26c8ab153a5b",
       "version_major": 2,
       "version_minor": 0
      },
      "text/plain": [
       "  0%|          | 0.00/42.1M [00:00<?, ?B/s]"
      ]
     },
     "metadata": {},
     "output_type": "display_data"
    },
    {
     "data": {
      "application/vnd.jupyter.widget-view+json": {
       "model_id": "d11fe4929d3041e796f82e5d434418ac",
       "version_major": 2,
       "version_minor": 0
      },
      "text/plain": [
       "  0%|          | 0.00/1.13M [00:00<?, ?B/s]"
      ]
     },
     "metadata": {},
     "output_type": "display_data"
    },
    {
     "data": {
      "application/vnd.jupyter.widget-view+json": {
       "model_id": "eb02d46cbb1f4a20b32692a3c3215680",
       "version_major": 2,
       "version_minor": 0
      },
      "text/plain": [
       "  0%|          | 0.00/12.2M [00:00<?, ?B/s]"
      ]
     },
     "metadata": {},
     "output_type": "display_data"
    },
    {
     "data": {
      "application/vnd.jupyter.widget-view+json": {
       "model_id": "7d4965bb91ac44f0a41001d990f2b070",
       "version_major": 2,
       "version_minor": 0
      },
      "text/plain": [
       "  0%|          | 0.00/4.15M [00:00<?, ?B/s]"
      ]
     },
     "metadata": {},
     "output_type": "display_data"
    },
    {
     "data": {
      "application/vnd.jupyter.widget-view+json": {
       "model_id": "3c6d9061e96b41ada5da839745c4b7f6",
       "version_major": 2,
       "version_minor": 0
      },
      "text/plain": [
       "  0%|          | 0.00/42.1M [00:00<?, ?B/s]"
      ]
     },
     "metadata": {},
     "output_type": "display_data"
    },
    {
     "data": {
      "application/vnd.jupyter.widget-view+json": {
       "model_id": "60fa9e0b06ad4ec8ada66bf79c4bdecc",
       "version_major": 2,
       "version_minor": 0
      },
      "text/plain": [
       "  0%|          | 0.00/1.03M [00:00<?, ?B/s]"
      ]
     },
     "metadata": {},
     "output_type": "display_data"
    },
    {
     "data": {
      "application/vnd.jupyter.widget-view+json": {
       "model_id": "7b69f03e2aa54b658a140340998b1cfe",
       "version_major": 2,
       "version_minor": 0
      },
      "text/plain": [
       "  0%|          | 0.00/15.7M [00:00<?, ?B/s]"
      ]
     },
     "metadata": {},
     "output_type": "display_data"
    },
    {
     "data": {
      "application/vnd.jupyter.widget-view+json": {
       "model_id": "d66f88aefd7a4ba199148a43b87a4d22",
       "version_major": 2,
       "version_minor": 0
      },
      "text/plain": [
       "  0%|          | 0.00/905k [00:00<?, ?B/s]"
      ]
     },
     "metadata": {},
     "output_type": "display_data"
    },
    {
     "data": {
      "application/vnd.jupyter.widget-view+json": {
       "model_id": "933ae26b88af4a29af84977dd60bb0b4",
       "version_major": 2,
       "version_minor": 0
      },
      "text/plain": [
       "COLLECTING RESULTS | Downloading...:   0%|          | 0/13 [00:00<?, ?it/s]"
      ]
     },
     "metadata": {},
     "output_type": "display_data"
    },
    {
     "data": {
      "application/vnd.jupyter.widget-view+json": {
       "model_id": "1e9b42c8984044b1a44e2cb945db6abc",
       "version_major": 2,
       "version_minor": 0
      },
      "text/plain": [
       "COLLATING RESULTS | Processing...:   0%|          | 0/1 [00:00<?, ?it/s]"
      ]
     },
     "metadata": {},
     "output_type": "display_data"
    },
    {
     "name": "stdout",
     "output_type": "stream",
     "text": [
      "Saved US-AK Black Marble data to ../raw_data/blackmarble_2023_US-AK.nc\n"
     ]
    }
   ],
   "source": [
    "import rioxarray\n",
    "# Load the population density data\n",
    "# Assuming the file is a NetCDF or GeoTIFF\n",
    "#pop_density = rioxarray.open_rasterio('../raw_data/population/population.tif')\n",
    "\n",
    "# Ensure the data has a CRS (coordinate reference system)\n",
    "#pop_density = pop_density.rio.write_crs(\"EPSG:4326\")\n",
    "\n",
    "# Alternatively, you could use a GeoDataFrame you've already defined\n",
    "#california_gdf = gpd.read_file('path_to_california_boundary.geojson')\n",
    "\n",
    "# Clip the population density data using California's boundary\n",
    "#california_pop_density = pop_density.rio.clip(california_gdf.geometry, california_gdf.crs)\n",
    "#california_pop_density = pop_density.rio.clip(gdf.geometry, gdf.crs)\n",
    "\n",
    "# Save the clipped data to a new GeoTIFF\n",
    "#california_pop_density.rio.to_raster('california_population_density.tif')\n",
    "\n",
    "# If you want to convert it back to a DataFrame for further analysis\n",
    "#california_pop_df = california_pop_density.to_dataframe().reset_index()\n",
    "\n",
    "# Example analysis: mean population density in California\n",
    "#mean_pop_density = california_pop_df['band_data'].mean()  # Replace 'band_data' with actual data variable name if different\n",
    "#print(f\"Mean Population Density: {mean_pop_density}\")\n"
   ]
  }
 ],
 "metadata": {
  "kernelspec": {
   "display_name": "illuminating_horizons",
   "language": "python",
   "name": "python3"
  },
  "language_info": {
   "codemirror_mode": {
    "name": "ipython",
    "version": 3
   },
   "file_extension": ".py",
   "mimetype": "text/x-python",
   "name": "python",
   "nbconvert_exporter": "python",
   "pygments_lexer": "ipython3",
   "version": "3.10.6"
  }
 },
 "nbformat": 4,
 "nbformat_minor": 2
}
