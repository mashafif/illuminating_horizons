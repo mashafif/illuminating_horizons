{
 "cells": [
  {
   "cell_type": "code",
   "execution_count": 2,
   "metadata": {},
   "outputs": [],
   "source": [
    "import pandas as pd\n",
    "import geopandas\n",
    "from shapely.geometry import Point\n",
    "import sqlite3\n",
    "import get_power_plants\n",
    "from geodata_processing import download_gdf\n",
    "import numpy"
   ]
  },
  {
   "cell_type": "code",
   "execution_count": 3,
   "metadata": {},
   "outputs": [],
   "source": [
    "USA = download_gdf(country='USA',resolution=1)\n",
    "\n",
    "CA_boundary = USA[USA.NAME_1=='California'].geometry"
   ]
  },
  {
   "cell_type": "code",
   "execution_count": 5,
   "metadata": {},
   "outputs": [],
   "source": [
    "from shapely.geometry import Point\n",
    "import random\n",
    "\n",
    "def generate_random_coordinates_within_multipolygon(pol, num_points):\n",
    "    points = []\n",
    "    multipolygon = pol.bounds.to_numpy()\n",
    "    min_x, min_y, max_x, max_y = multipolygon[0]\n",
    "    while len(points) < num_points:\n",
    "        random_point = Point(random.uniform(min_x, max_x), random.uniform(min_y, max_y))\n",
    "        if pol.contains(random_point).iloc[0]:\n",
    "            points.append((random_point.x, random_point.y))\n",
    "    return points\n",
    "\n",
    "random_points = generate_random_coordinates_within_multipolygon(CA_boundary, 2000)\n"
   ]
  },
  {
   "cell_type": "code",
   "execution_count": 6,
   "metadata": {},
   "outputs": [],
   "source": [
    "CA = get_power_plants.get_uspvdb('CA')"
   ]
  },
  {
   "cell_type": "code",
   "execution_count": 7,
   "metadata": {},
   "outputs": [],
   "source": [
    "known_plants = CA[['xlong','ylat']].to_numpy()"
   ]
  },
  {
   "cell_type": "code",
   "execution_count": 8,
   "metadata": {},
   "outputs": [
    {
     "name": "stderr",
     "output_type": "stream",
     "text": [
      "/Users/kaorukure/.pyenv/versions/3.10.6/envs/illuminating_horizons/lib/python3.10/site-packages/IPython/core/interactiveshell.py:3577: FutureWarning: The `op` parameter is deprecated and will be removed in a future release. Please use the `predicate` parameter instead.\n",
      "  exec(code_obj, self.user_global_ns, self.user_ns)\n"
     ]
    }
   ],
   "source": [
    "from shapely.geometry import Point\n",
    "from geopandas.tools import sjoin\n",
    "import random\n",
    "\n",
    "def filter_coordinates_by_distance_gdf(random_points, set_A, distance_threshold_km):\n",
    "    # Convert random_points and set_A into GeoDataFrames\n",
    "    random_points_gdf = geopandas.GeoDataFrame(geometry=[Point(xy) for xy in random_points])\n",
    "    set_A_gdf = geopandas.GeoDataFrame(geometry=[Point(xy) for xy in set_A])\n",
    "\n",
    "    # Buffer set_A by the distance threshold\n",
    "    set_A_gdf = set_A_gdf.set_crs(epsg=4326)  # Assuming the coordinates are in WGS84\n",
    "    set_A_gdf = set_A_gdf.to_crs(epsg=3857)   # Convert to a metric system (meters)\n",
    "    set_A_gdf['geometry'] = set_A_gdf.buffer(distance_threshold_km * 1000)  # Buffer in meters\n",
    "\n",
    "    # Convert random points to the same CRS\n",
    "    random_points_gdf = random_points_gdf.set_crs(epsg=4326)\n",
    "    random_points_gdf = random_points_gdf.to_crs(epsg=3857)\n",
    "\n",
    "    # Perform a spatial join to find random points within the buffer zones\n",
    "    joined_gdf = sjoin(random_points_gdf, set_A_gdf, how=\"left\", op=\"within\")\n",
    "\n",
    "    # Filter out points that are within the distance threshold (those with a match in set_A)\n",
    "    filtered_gdf = joined_gdf[joined_gdf.index_right.isna()]\n",
    "\n",
    "    # Convert filtered points back to EPSG:4326 (latitude, longitude)\n",
    "    filtered_gdf = filtered_gdf.to_crs(epsg=4326)\n",
    "\n",
    "    # Convert filtered points back to a list of tuples (x, y)\n",
    "    filtered_points = [(point.x, point.y) for point in filtered_gdf.geometry]\n",
    "\n",
    "    return filtered_points\n",
    "\n",
    "# Example usage\n",
    "# Assuming 'set_A' is a list of tuples (x, y) representing 500 separate coordinates\n",
    "# And 'random_points' is the list of random coordinates generated earlier\n",
    "\n",
    "distance_threshold_km = 10  # 10 km threshold\n",
    "filtered_random_points = filter_coordinates_by_distance_gdf(random_points, known_plants, distance_threshold_km)\n"
   ]
  },
  {
   "cell_type": "code",
   "execution_count": 9,
   "metadata": {},
   "outputs": [
    {
     "data": {
      "text/plain": [
       "1777"
      ]
     },
     "execution_count": 9,
     "metadata": {},
     "output_type": "execute_result"
    }
   ],
   "source": [
    "len(filtered_random_points)"
   ]
  },
  {
   "cell_type": "code",
   "execution_count": 10,
   "metadata": {},
   "outputs": [],
   "source": [
    "absent_points = random.sample(filtered_random_points,len(known_plants))"
   ]
  },
  {
   "cell_type": "code",
   "execution_count": 11,
   "metadata": {},
   "outputs": [],
   "source": [
    "\n",
    "known_plants_df = pd.DataFrame(known_plants, columns=['Longitude', 'Latitude'])\n",
    "absent_points_df = pd.DataFrame(absent_points, columns=['Longitude', 'Latitude'])\n",
    "\n",
    "# Add labels\n",
    "known_plants_df['have_plant'] = 1\n",
    "absent_points_df['have_plant'] = 0\n",
    "\n",
    "# Concatenate the DataFrames\n",
    "combined_df = pd.concat([known_plants_df, absent_points_df], ignore_index=True)\n"
   ]
  },
  {
   "cell_type": "code",
   "execution_count": 12,
   "metadata": {},
   "outputs": [
    {
     "ename": "NameError",
     "evalue": "name 'gpd' is not defined",
     "output_type": "error",
     "traceback": [
      "\u001b[0;31m---------------------------------------------------------------------------\u001b[0m",
      "\u001b[0;31mNameError\u001b[0m                                 Traceback (most recent call last)",
      "Cell \u001b[0;32mIn[12], line 29\u001b[0m\n\u001b[1;32m     26\u001b[0m     \u001b[38;5;66;03m# Show plot\u001b[39;00m\n\u001b[1;32m     27\u001b[0m     plt\u001b[38;5;241m.\u001b[39mshow()\n\u001b[0;32m---> 29\u001b[0m \u001b[43mplot_combined_df_on_map\u001b[49m\u001b[43m(\u001b[49m\u001b[43mcombined_df\u001b[49m\u001b[43m)\u001b[49m\n",
      "Cell \u001b[0;32mIn[12], line 5\u001b[0m, in \u001b[0;36mplot_combined_df_on_map\u001b[0;34m(combined_df)\u001b[0m\n\u001b[1;32m      2\u001b[0m \u001b[38;5;28;01mdef\u001b[39;00m \u001b[38;5;21mplot_combined_df_on_map\u001b[39m(combined_df):\n\u001b[1;32m      3\u001b[0m \n\u001b[1;32m      4\u001b[0m     \u001b[38;5;66;03m# Convert the combined DataFrame to a GeoDataFrame\u001b[39;00m\n\u001b[0;32m----> 5\u001b[0m     combined_gdf \u001b[38;5;241m=\u001b[39m \u001b[43mgpd\u001b[49m\u001b[38;5;241m.\u001b[39mGeoDataFrame(\n\u001b[1;32m      6\u001b[0m         combined_df, geometry\u001b[38;5;241m=\u001b[39mgpd\u001b[38;5;241m.\u001b[39mpoints_from_xy(combined_df\u001b[38;5;241m.\u001b[39mLongitude, combined_df\u001b[38;5;241m.\u001b[39mLatitude), crs\u001b[38;5;241m=\u001b[39m\u001b[38;5;124m\"\u001b[39m\u001b[38;5;124mEPSG:4326\u001b[39m\u001b[38;5;124m\"\u001b[39m\n\u001b[1;32m      7\u001b[0m     )\n\u001b[1;32m      9\u001b[0m     \u001b[38;5;66;03m# Create a GeoDataFrame for California\u001b[39;00m\n\u001b[1;32m     10\u001b[0m     california_gdf \u001b[38;5;241m=\u001b[39m gpd\u001b[38;5;241m.\u001b[39mGeoDataFrame(geometry\u001b[38;5;241m=\u001b[39m[CA_boundary\u001b[38;5;241m.\u001b[39miloc[\u001b[38;5;241m0\u001b[39m]], crs\u001b[38;5;241m=\u001b[39m\u001b[38;5;124m\"\u001b[39m\u001b[38;5;124mEPSG:4326\u001b[39m\u001b[38;5;124m\"\u001b[39m)\n",
      "\u001b[0;31mNameError\u001b[0m: name 'gpd' is not defined"
     ]
    }
   ],
   "source": [
    "# Function to plot the combined DataFrame on a map\n",
    "def plot_combined_df_on_map(combined_df):\n",
    "\n",
    "    # Convert the combined DataFrame to a GeoDataFrame\n",
    "    combined_gdf = gpd.GeoDataFrame(\n",
    "        combined_df, geometry=gpd.points_from_xy(combined_df.Longitude, combined_df.Latitude), crs=\"EPSG:4326\"\n",
    "    )\n",
    "\n",
    "    # Create a GeoDataFrame for California\n",
    "    california_gdf = gpd.GeoDataFrame(geometry=[CA_boundary.iloc[0]], crs=\"EPSG:4326\")\n",
    "\n",
    "    # Plotting\n",
    "    fig, ax = plt.subplots(figsize=(10, 10))\n",
    "    california_gdf.boundary.plot(ax=ax, color='black', linewidth=2)\n",
    "\n",
    "    # Plot known plants (Label = 1) with a different marker\n",
    "    combined_gdf[combined_gdf['have_plant'] == 1].plot(ax=ax, color='blue', marker='o', label='Known Plants (1)', markersize=50)\n",
    "\n",
    "    # Plot filtered random points (Label = 0) with a different marker\n",
    "    combined_gdf[combined_gdf['have_plant'] == 0].plot(ax=ax, color='red', marker='x', label='Filtered Random Points (0)', markersize=50)\n",
    "\n",
    "    # Add labels and legend\n",
    "    plt.title('California Map with Known Plants (Blue) and Filtered Random Points (Red)')\n",
    "    plt.legend()\n",
    "\n",
    "    # Show plot\n",
    "    plt.show()\n",
    "\n",
    "plot_combined_df_on_map(combined_df)\n"
   ]
  },
  {
   "cell_type": "code",
   "execution_count": null,
   "metadata": {},
   "outputs": [
    {
     "ename": "NameError",
     "evalue": "name 'combined_df' is not defined",
     "output_type": "error",
     "traceback": [
      "\u001b[0;31m---------------------------------------------------------------------------\u001b[0m",
      "\u001b[0;31mNameError\u001b[0m                                 Traceback (most recent call last)",
      "Cell \u001b[0;32mIn[1], line 1\u001b[0m\n\u001b[0;32m----> 1\u001b[0m \u001b[43mcombined_df\u001b[49m\u001b[38;5;241m.\u001b[39mto_csv(\u001b[38;5;124m'\u001b[39m\u001b[38;5;124mCA_locations.csv\u001b[39m\u001b[38;5;124m'\u001b[39m)\n",
      "\u001b[0;31mNameError\u001b[0m: name 'combined_df' is not defined"
     ]
    }
   ],
   "source": [
    "combined_df.to_csv('CA_locations.csv')"
   ]
  }
 ],
 "metadata": {
  "kernelspec": {
   "display_name": "Python 3 (ipykernel)",
   "language": "python",
   "name": "python3"
  },
  "language_info": {
   "codemirror_mode": {
    "name": "ipython",
    "version": 3
   },
   "file_extension": ".py",
   "mimetype": "text/x-python",
   "name": "python",
   "nbconvert_exporter": "python",
   "pygments_lexer": "ipython3",
   "version": "3.10.6"
  }
 },
 "nbformat": 4,
 "nbformat_minor": 4
}
