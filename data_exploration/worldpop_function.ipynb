{
 "cells": [
  {
   "cell_type": "code",
   "execution_count": 1,
   "id": "3d89b6d9",
   "metadata": {},
   "outputs": [],
   "source": [
    "import pandas as pd\n",
    "import matplotlib.pyplot as plt\n",
    "import requests, zipfile, io"
   ]
  },
  {
   "cell_type": "code",
   "execution_count": 2,
   "id": "cbddfd31",
   "metadata": {},
   "outputs": [],
   "source": [
    "API_BASE_URL = \"https://hub.worldpop.org/rest/data/pop/wpic1km?iso3=\"\n",
    "countries = [\"DZA\", \"AGO\", \"BEN\", \"BWA\", \"BFA\", \"BDI\", \"CMR\", \"CPV\", \"CAF\", \"TCD\", \"COM\", \"COG\", \"COD\", \"CIV\", \"DJI\", \"EGY\", \"GNQ\", \"ERI\", \"ETH\", \"GAB\", \"GMB\", \"GHA\", \"GIN\", \"GNB\", \"KEN\", \"LSO\", \"LBR\", \"LBY\", \"MDG\", \"MLI\", \"MWI\", \"MRT\", \"MUS\", \"MYT\", \"MAR\", \"MOZ\", \"NAM\", \"NER\", \"NGA\", \"REU\", \"RWA\", \"STP\", \"SEN\", \"SYC\", \"SLE\", \"SOM\", \"ZAF\", \"SSD\", \"SDN\", \"SWZ\", \"TZA\", \"TGO\", \"TUN\", \"UGA\", \"ESH\", \"ZMB\", \"ZWE\"]"
   ]
  },
  {
   "cell_type": "code",
   "execution_count": 4,
   "id": "132a3208",
   "metadata": {},
   "outputs": [],
   "source": [
    "for country in countries:\n",
    "    response = requests.get(API_BASE_URL+country)\n",
    "    lst_of_files = response.json()['data'][-1]['files']\n",
    "    file_to_dl = [file for file in lst_of_files if file.endswith(\"zip\")]\n",
    "    zip_URL = file_to_dl[0]\n",
    "    zip_file = requests.get(zip_URL)\n",
    "    zip_content = zipfile.ZipFile(io.BytesIO(zip_file.content))\n",
    "    zip_content.extractall(\"/Users/yuji/code/illuminating_horizons/illuminating_horizons/data_exploration/CSV_data\")"
   ]
  },
  {
   "cell_type": "code",
   "execution_count": null,
   "id": "b6d0f780",
   "metadata": {},
   "outputs": [],
   "source": []
  },
  {
   "cell_type": "code",
   "execution_count": null,
   "id": "f437b9b5",
   "metadata": {},
   "outputs": [],
   "source": []
  },
  {
   "cell_type": "code",
   "execution_count": null,
   "id": "fd91305f",
   "metadata": {},
   "outputs": [],
   "source": []
  },
  {
   "cell_type": "code",
   "execution_count": null,
   "id": "9f2ba9dc",
   "metadata": {},
   "outputs": [],
   "source": []
  }
 ],
 "metadata": {
  "kernelspec": {
   "display_name": "Python 3 (ipykernel)",
   "language": "python",
   "name": "python3"
  },
  "language_info": {
   "codemirror_mode": {
    "name": "ipython",
    "version": 3
   },
   "file_extension": ".py",
   "mimetype": "text/x-python",
   "name": "python",
   "nbconvert_exporter": "python",
   "pygments_lexer": "ipython3",
   "version": "3.10.6"
  }
 },
 "nbformat": 4,
 "nbformat_minor": 5
}
