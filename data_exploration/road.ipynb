{
 "cells": [
  {
   "cell_type": "code",
   "execution_count": 23,
   "id": "2f2fa08c-7c72-4f87-80c3-b4ab815dfd33",
   "metadata": {},
   "outputs": [
    {
     "name": "stdout",
     "output_type": "stream",
     "text": [
      "Collecting overpass\n",
      "  Downloading overpass-0.7-py3-none-any.whl.metadata (773 bytes)\n",
      "Requirement already satisfied: requests>=2.3.0 in /home/kalimdorfolk/.pyenv/versions/3.10.6/envs/illuminating_horizons/lib/python3.10/site-packages (from overpass) (2.32.3)\n",
      "Requirement already satisfied: geojson>=1.0.9 in /home/kalimdorfolk/.pyenv/versions/3.10.6/envs/illuminating_horizons/lib/python3.10/site-packages (from overpass) (3.1.0)\n",
      "Requirement already satisfied: shapely>=1.6.4 in /home/kalimdorfolk/.pyenv/versions/3.10.6/envs/illuminating_horizons/lib/python3.10/site-packages (from overpass) (2.0.5)\n",
      "Requirement already satisfied: charset-normalizer<4,>=2 in /home/kalimdorfolk/.pyenv/versions/3.10.6/envs/illuminating_horizons/lib/python3.10/site-packages (from requests>=2.3.0->overpass) (3.3.2)\n",
      "Requirement already satisfied: idna<4,>=2.5 in /home/kalimdorfolk/.pyenv/versions/3.10.6/envs/illuminating_horizons/lib/python3.10/site-packages (from requests>=2.3.0->overpass) (3.7)\n",
      "Requirement already satisfied: urllib3<3,>=1.21.1 in /home/kalimdorfolk/.pyenv/versions/3.10.6/envs/illuminating_horizons/lib/python3.10/site-packages (from requests>=2.3.0->overpass) (2.2.2)\n",
      "Requirement already satisfied: certifi>=2017.4.17 in /home/kalimdorfolk/.pyenv/versions/3.10.6/envs/illuminating_horizons/lib/python3.10/site-packages (from requests>=2.3.0->overpass) (2024.7.4)\n",
      "Requirement already satisfied: numpy<3,>=1.14 in /home/kalimdorfolk/.pyenv/versions/3.10.6/envs/illuminating_horizons/lib/python3.10/site-packages (from shapely>=1.6.4->overpass) (2.0.0)\n",
      "Downloading overpass-0.7-py3-none-any.whl (10 kB)\n",
      "Installing collected packages: overpass\n",
      "Successfully installed overpass-0.7\n"
     ]
    }
   ],
   "source": [
    "!pip install overpass"
   ]
  },
  {
   "cell_type": "code",
   "execution_count": 1,
   "id": "15c8f4a7-8568-459c-8152-58fccbd02451",
   "metadata": {},
   "outputs": [
    {
     "name": "stdout",
     "output_type": "stream",
     "text": [
      "Successfully downloaded secondary data\n",
      "[{\"geometry\": {\"coordinates\": [[-118.081706, 34.147208], [-118.08206, 34.148231]], \"type\": \"LineString\"}, \"id\": 3129403, \"properties\": {\"highway\": \"secondary\", \"lanes\": \"4\", \"name\": \"Sierra Madre Villa Avenue\", \"oneway\": \"yes\", \"turn:lanes\": \"left|left|none|none\"}, \"type\": \"Feature\"}, {\"geometry\": {\"coordinates\": [[-118.219616, 34.074898], [-118.219378, 34.074995]], \"type\": \"LineString\"}, \"id\": 3129874, \"properties\": {\"bridge\": \"yes\", \"highway\": \"secondary\", \"lanes\": \"4\", \"layer\": \"1\", \"maxspeed\": \"35 mph\", \"maxspeed:conditional\": \"25 mph @ children_present\", \"name\": \"Pasadena Avenue\", \"old_ref\": \"US 66;US 99\", \"placement:backward\": \"left_of:1\", \"source\": \"usgs_imagery;survey;image\", \"source:maxspeed\": \"survey;image\", \"source_ref\": \"AM909_DSCV1642\", \"source_ref:maxspeed\": \"AM909_DSCV1645\"}, \"type\": \"Feature\"}]\n",
      "Successfully downloaded tertiary data\n",
      "[{\"geometry\": {\"coordinates\": [[-116.1637, 33.992695], [-116.163722, 33.992932], [-116.163711, 33.99323], [-116.16366, 33.993566], [-116.163602, 33.993982], [-116.163539, 33.994363], [-116.163374, 33.995134], [-116.163173, 33.996071], [-116.163133, 33.996402], [-116.163107, 33.996696], [-116.163121, 33.99697], [-116.163145, 33.997377], [-116.163381, 33.998537], [-116.16349, 33.999082], [-116.16351, 33.999211], [-116.163596, 33.999766], [-116.16369, 34.000619], [-116.163752, 34.001274], [-116.163853, 34.002375], [-116.163868, 34.002545], [-116.163892, 34.002873], [-116.163894, 34.002948], [-116.16391, 34.003438], [-116.163886, 34.003964], [-116.163837, 34.004634], [-116.163766, 34.005395], [-116.163745, 34.005691], [-116.163668, 34.005918], [-116.163606, 34.006098], [-116.163532, 34.006311], [-116.163388, 34.006702], [-116.163362, 34.006772], [-116.163269, 34.007229], [-116.163195, 34.00776], [-116.163129, 34.008144], [-116.163046, 34.008401], [-116.162964, 34.008627], [-116.162847, 34.008878], [-116.162556, 34.009347], [-116.162548, 34.009359], [-116.162226, 34.009817], [-116.162158, 34.009913], [-116.161919, 34.010356], [-116.161769, 34.010752], [-116.161668, 34.011093], [-116.16156, 34.011524]], \"type\": \"LineString\"}, \"id\": 2044, \"properties\": {\"highway\": \"tertiary\", \"lanes\": \"2\", \"maxspeed\": \"35 mph\", \"name\": \"Park Boulevard\", \"surface\": \"asphalt\"}, \"type\": \"Feature\"}, {\"geometry\": {\"coordinates\": [[-118.146076, 34.090625], [-118.14595, 34.090693], [-118.145891, 34.090778], [-118.145833, 34.090865], [-118.145818, 34.090885], [-118.145769, 34.090951], [-118.145711, 34.09102], [-118.145658, 34.091078], [-118.145596, 34.091139], [-118.145537, 34.091194], [-118.145466, 34.091253], [-118.145383, 34.091317], [-118.145297, 34.091384], [-118.145269, 34.091425], [-118.145251, 34.091473], [-118.145242, 34.09152]], \"type\": \"LineString\"}, \"id\": 2430283, \"properties\": {\"highway\": \"tertiary\", \"lanes\": \"2\", \"name\": \"Palm Avenue\", \"oneway\": \"yes\", \"turn:lanes\": \"left;through|right\"}, \"type\": \"Feature\"}]\n",
      "Successfully downloaded motorway data\n",
      "[{\"geometry\": {\"coordinates\": [[-116.415993, 35.068359], [-116.408825, 35.07303], [-116.402135, 35.077391], [-116.401106, 35.077952], [-116.400068, 35.078406], [-116.399207, 35.078686], [-116.398213, 35.078953], [-116.397096, 35.079075], [-116.389567, 35.079142], [-116.388374, 35.079211], [-116.387442, 35.079382], [-116.386529, 35.079539], [-116.385363, 35.079899], [-116.384031, 35.080519], [-116.379621, 35.082602], [-116.377766, 35.083211], [-116.376701, 35.083429], [-116.376022, 35.083546], [-116.375333, 35.083651], [-116.350942, 35.086413]], \"type\": \"LineString\"}, \"id\": 2022, \"properties\": {\"bicycle\": \"yes\", \"hgv\": \"designated\", \"highway\": \"motorway\", \"lanes\": \"2\", \"maxspeed\": \"70 mph\", \"name\": \"Mojave Freeway\", \"oneway\": \"yes\", \"ref\": \"I 15\", \"source:maxspeed\": \"sign\"}, \"type\": \"Feature\"}, {\"geometry\": {\"coordinates\": [[-116.449251, 33.843795], [-116.440943, 33.838874], [-116.439483, 33.838012], [-116.438328, 33.837328], [-116.436524, 33.836267], [-116.435017, 33.83537], [-116.433962, 33.834749], [-116.433053, 33.834205], [-116.431277, 33.833168], [-116.42956, 33.832145], [-116.427956, 33.831199], [-116.426222, 33.830165], [-116.424126, 33.828926], [-116.421258, 33.827229], [-116.419734, 33.826327], [-116.417682, 33.825105], [-116.414965, 33.823507], [-116.413839, 33.82284]], \"type\": \"LineString\"}, \"id\": 2048, \"properties\": {\"FIXME:bicycle\": \"verify\", \"NHS\": \"Interstate\", \"bicycle\": \"no\", \"destination:lanes\": \"|||none;Bob Hope Drive\", \"foot\": \"no\", \"hgv\": \"designated\", \"hgv:national_network\": \"national_network\", \"highway\": \"motorway\", \"lanes\": \"4\", \"maxspeed\": \"70 mph\", \"maxspeed:hgv\": \"55 mph\", \"maxspeed:towing\": \"55 mph\", \"maxspeed:trailer\": \"55 mph\", \"mofa\": \"no\", \"name\": \"Sonny Bono Memorial Freeway\", \"oneway\": \"yes\", \"ref\": \"I 10\", \"source:maxspeed:hgv\": \"survey;image\", \"source:maxspeed:towing\": \"survey;image\", \"source_ref:maxspeed:hgv\": \"AM909_DSCX1576\", \"source_ref:maxspeed:towing\": \"AM909_DSCX1576\", \"surface\": \"asphalt\", \"turn:lanes\": \"|||through;slight_right\"}, \"type\": \"Feature\"}]\n",
      "Successfully downloaded trunk data\n",
      "[{\"geometry\": {\"coordinates\": [[-118.106565, 33.752852], [-118.106676, 33.753047], [-118.106756, 33.753175]], \"type\": \"LineString\"}, \"id\": 3831354, \"properties\": {\"access:lanes:backward\": \"yes|yes|no\", \"access:lanes:forward\": \"yes|yes|yes|no\", \"bicycle:lanes:backward\": \"yes|yes|designated\", \"bicycle:lanes:forward\": \"yes|yes|yes|designated\", \"cycleway\": \"lane\", \"hgv\": \"designated\", \"hgv:national_network\": \"terminal_access\", \"highway\": \"trunk\", \"lanes\": \"7\", \"lanes:backward\": \"3\", \"lanes:forward\": \"4\", \"maxspeed\": \"45 mph\", \"name\": \"East Pacific Coast Highway\", \"placement:forward\": \"left_of:1\", \"ref\": \"CA 1\", \"source\": \"usgs_imagery;survey;image\", \"source:bicycle\": \"survey;image\", \"source:hgv\": \"image;AM909_DSCU1597;survey\", \"source:hgv:national_network\": \"Caltrans http://www.dot.ca.gov/hq/traffops/trucks/truckmap/\", \"source:maxspeed\": \"survey;image\", \"source_ref\": \"AM909_DSCU1583;AM909_DSCU1583;AM909_DSCU1562;AM909_DSCU1602;AM909_DSCU1628;AM909_DSCU1628;AM909_DSCU1637\", \"source_ref:bicycle\": \"AM909_DSCU1579;AM909_DSCU1571;AM909_DSCU1571;AM909_DSCU1601;AM909_DSCU1632;AM909_DSCU1632\", \"source_ref:hgv\": \"AM909_DSCU1584;AM909_DSCU1599;AM909_DSCU1627;AM909_DSCU1627\", \"source_ref:maxspeed\": \"AM909_DSCU1589;AM909_DSCU5057;AM909_DSCU5057;AM909_DSCU1571;AM909_DSCU5057;AM909_DSCU5073;AM909_DSCU5038;AM909_DSCU5038;AM909_DSCU1605;AM909_DSCU5038;AM909_DSCU5038;AM909_DSCU5038;AM909_DSCU5038\", \"tiger:cfcc\": \"A31\", \"tiger:name_base\": \"Pacific Coast\", \"tiger:name_base_1\": \"State Highway 1\", \"tiger:name_direction_prefix\": \"E\", \"tiger:name_type\": \"Hwy\"}, \"type\": \"Feature\"}, {\"geometry\": {\"coordinates\": [[-117.921698, 33.637381], [-117.921617, 33.637599], [-117.921567, 33.637721], [-117.921486, 33.637897], [-117.921386, 33.638089], [-117.921319, 33.638213], [-117.921269, 33.638297], [-117.921123, 33.638522], [-117.92105, 33.638631], [-117.920983, 33.638725], [-117.920911, 33.63882]], \"type\": \"LineString\"}, \"id\": 4271740, \"properties\": {\"hgv\": \"designated\", \"hgv:national_network\": \"terminal_access\", \"highway\": \"trunk\", \"lanes\": \"4\", \"maxspeed\": \"40 mph\", \"name\": \"Newport Boulevard\", \"old_ref:legislative\": \"43\", \"oneway\": \"yes\", \"ref\": \"CA 55\", \"source\": \"survey;image;usgs_imagery\", \"source:hgv:national_network\": \"Caltrans http://www.dot.ca.gov/hq/traffops/trucks/truckmap/\", \"source:maxspeed\": \"survey;image\", \"source_ref:maxspeed\": \"AM909_DSCU4176\", \"tiger:county\": \"Orange, CA\", \"tiger:name_base\": \"Newport\", \"tiger:name_type\": \"Blvd\"}, \"type\": \"Feature\"}]\n",
      "Successfully downloaded road data\n",
      "[{\"geometry\": {\"coordinates\": [[-116.812067, 32.722994], [-116.81207, 32.722469], [-116.812075, 32.721884], [-116.812111, 32.721626], [-116.81213, 32.721526], [-116.812133, 32.721394], [-116.812128, 32.721249], [-116.812114, 32.721127], [-116.812109, 32.721002], [-116.812109, 32.72089]], \"type\": \"LineString\"}, \"id\": 5955602, \"properties\": {\"access\": \"private\", \"highway\": \"road\", \"tiger:cfcc\": \"A74\", \"tiger:county\": \"San Diego, CA\", \"tiger:reviewed\": \"no\"}, \"type\": \"Feature\"}, {\"geometry\": {\"coordinates\": [[-122.240287, 37.779563], [-122.240266, 37.779432], [-122.24012, 37.778518]], \"type\": \"LineString\"}, \"id\": 6343670, \"properties\": {\"access\": \"private\", \"highway\": \"road\", \"name\": \"King Street\", \"oneway\": \"yes\", \"surface\": \"asphalt\", \"tiger:cfcc\": \"A41\", \"tiger:county\": \"Alameda, CA\", \"tiger:name_base\": \"King\", \"tiger:name_type\": \"St\", \"tiger:reviewed\": \"no\"}, \"type\": \"Feature\"}]\n"
     ]
    }
   ],
   "source": [
    "import overpass\n",
    "import geojson\n",
    "\n",
    "api = overpass.API(timeout=600)\n",
    "road_type =[\"secondary\",\"tertiary\",\"motorway\",\"trunk\",\"road\"]\n",
    "\n",
    "for road in road_type:\n",
    "    try:\n",
    "        query = f\"\"\"\n",
    "        area[\"name\"=\"California\"]->.a;\n",
    "        way(area.a)[\"highway\"~\"^({road})$\"];\n",
    "        out geom;\n",
    "        \"\"\"    \n",
    "        result = api.get(query)\n",
    "\n",
    "        file_name= f\"california_roads/{road}_road_location.geojson\"\n",
    "\n",
    "        with open(file_name,mode=\"w\") as f:\n",
    "            geojson.dump(result,f)\n",
    "        print(f\"Successfully downloaded {road} data\")\n",
    "    except Exception as e:\n",
    "        print(f\"Error in downloading {road}: {e}\")\n",
    "    else:\n",
    "        print(result[0:2])        "
   ]
  },
  {
   "cell_type": "code",
   "execution_count": 37,
   "id": "12bb0020-13f6-46d1-a72b-2fddb6f0a783",
   "metadata": {},
   "outputs": [
    {
     "data": {
      "text/plain": [
       "geojson.feature.FeatureCollection"
      ]
     },
     "execution_count": 37,
     "metadata": {},
     "output_type": "execute_result"
    }
   ],
   "source": [
    "type(result)"
   ]
  },
  {
   "cell_type": "code",
   "execution_count": 41,
   "id": "a21a0cd5-5319-4f81-87e5-154f796915e0",
   "metadata": {},
   "outputs": [],
   "source": [
    "with open(\"./road_location.geojson\",mode=\"w\") as f:\n",
    "  geojson.dump(result,f)"
   ]
  },
  {
   "cell_type": "code",
   "execution_count": 29,
   "id": "b5cf7aac-637d-4961-b2a9-dcbc1c7f669a",
   "metadata": {},
   "outputs": [
    {
     "name": "stdout",
     "output_type": "stream",
     "text": [
      "/home/kalimdorfolk/code/mashafif/illuminating_horizons/data_exploration\n"
     ]
    }
   ],
   "source": [
    "!pwd"
   ]
  },
  {
   "cell_type": "code",
   "execution_count": null,
   "id": "c1f3f14f-bcbd-4e8d-8788-29210f287e2f",
   "metadata": {},
   "outputs": [],
   "source": []
  },
  {
   "cell_type": "code",
   "execution_count": null,
   "id": "d8573d04-494a-4711-98fe-983fde773838",
   "metadata": {},
   "outputs": [],
   "source": [
    "# Combine results into a single dataset\n",
    "combined_results = overpy.Result()\n",
    "for result in results:\n",
    "    combined_results.nodes.extend(result.nodes)\n",
    "    combined_results.ways.extend(result.ways)\n",
    "    combined_results.relations.extend(result.relations)\n",
    "\n",
    "# The combined_results now contains data from all queries"
   ]
  }
 ],
 "metadata": {
  "kernelspec": {
   "display_name": "Python 3 (ipykernel)",
   "language": "python",
   "name": "python3"
  },
  "language_info": {
   "codemirror_mode": {
    "name": "ipython",
    "version": 3
   },
   "file_extension": ".py",
   "mimetype": "text/x-python",
   "name": "python",
   "nbconvert_exporter": "python",
   "pygments_lexer": "ipython3",
   "version": "3.10.6"
  }
 },
 "nbformat": 4,
 "nbformat_minor": 5
}
